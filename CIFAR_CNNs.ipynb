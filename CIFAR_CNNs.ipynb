{
 "cells": [
  {
   "cell_type": "markdown",
   "metadata": {},
   "source": [
    "## Get Data"
   ]
  },
  {
   "cell_type": "code",
   "execution_count": 62,
   "metadata": {},
   "outputs": [],
   "source": [
    "from keras.datasets import cifar10\n",
    "\n",
    "(x_train, y_train), (x_test, y_test) = cifar10.load_data()"
   ]
  },
  {
   "cell_type": "code",
   "execution_count": 63,
   "metadata": {},
   "outputs": [
    {
     "data": {
      "text/plain": [
       "(50000, 32, 32, 3)"
      ]
     },
     "execution_count": 63,
     "metadata": {},
     "output_type": "execute_result"
    }
   ],
   "source": [
    "x_train.shape"
   ]
  },
  {
   "cell_type": "code",
   "execution_count": 64,
   "metadata": {},
   "outputs": [
    {
     "data": {
      "text/plain": [
       "(50000, 1)"
      ]
     },
     "execution_count": 64,
     "metadata": {},
     "output_type": "execute_result"
    }
   ],
   "source": [
    "y_train.shape"
   ]
  },
  {
   "cell_type": "code",
   "execution_count": 65,
   "metadata": {},
   "outputs": [
    {
     "data": {
      "text/plain": [
       "(10000, 32, 32, 3)"
      ]
     },
     "execution_count": 65,
     "metadata": {},
     "output_type": "execute_result"
    }
   ],
   "source": [
    "x_test.shape"
   ]
  },
  {
   "cell_type": "code",
   "execution_count": 66,
   "metadata": {},
   "outputs": [
    {
     "data": {
      "text/plain": [
       "(10000, 1)"
      ]
     },
     "execution_count": 66,
     "metadata": {},
     "output_type": "execute_result"
    }
   ],
   "source": [
    "y_test.shape"
   ]
  },
  {
   "cell_type": "markdown",
   "metadata": {},
   "source": [
    "## Data Exploring"
   ]
  },
  {
   "cell_type": "code",
   "execution_count": 67,
   "metadata": {},
   "outputs": [
    {
     "data": {
      "text/plain": [
       "array([[[ 59,  62,  63],\n",
       "        [ 43,  46,  45],\n",
       "        [ 50,  48,  43],\n",
       "        ...,\n",
       "        [158, 132, 108],\n",
       "        [152, 125, 102],\n",
       "        [148, 124, 103]],\n",
       "\n",
       "       [[ 16,  20,  20],\n",
       "        [  0,   0,   0],\n",
       "        [ 18,   8,   0],\n",
       "        ...,\n",
       "        [123,  88,  55],\n",
       "        [119,  83,  50],\n",
       "        [122,  87,  57]],\n",
       "\n",
       "       [[ 25,  24,  21],\n",
       "        [ 16,   7,   0],\n",
       "        [ 49,  27,   8],\n",
       "        ...,\n",
       "        [118,  84,  50],\n",
       "        [120,  84,  50],\n",
       "        [109,  73,  42]],\n",
       "\n",
       "       ...,\n",
       "\n",
       "       [[208, 170,  96],\n",
       "        [201, 153,  34],\n",
       "        [198, 161,  26],\n",
       "        ...,\n",
       "        [160, 133,  70],\n",
       "        [ 56,  31,   7],\n",
       "        [ 53,  34,  20]],\n",
       "\n",
       "       [[180, 139,  96],\n",
       "        [173, 123,  42],\n",
       "        [186, 144,  30],\n",
       "        ...,\n",
       "        [184, 148,  94],\n",
       "        [ 97,  62,  34],\n",
       "        [ 83,  53,  34]],\n",
       "\n",
       "       [[177, 144, 116],\n",
       "        [168, 129,  94],\n",
       "        [179, 142,  87],\n",
       "        ...,\n",
       "        [216, 184, 140],\n",
       "        [151, 118,  84],\n",
       "        [123,  92,  72]]], dtype=uint8)"
      ]
     },
     "execution_count": 67,
     "metadata": {},
     "output_type": "execute_result"
    }
   ],
   "source": [
    "x_train[0]"
   ]
  },
  {
   "cell_type": "code",
   "execution_count": 68,
   "metadata": {},
   "outputs": [
    {
     "data": {
      "text/plain": [
       "array([[6],\n",
       "       [9],\n",
       "       [9],\n",
       "       [4],\n",
       "       [1],\n",
       "       [1],\n",
       "       [2],\n",
       "       [7],\n",
       "       [8],\n",
       "       [3]], dtype=uint8)"
      ]
     },
     "execution_count": 68,
     "metadata": {},
     "output_type": "execute_result"
    }
   ],
   "source": [
    "y_train[0:10]"
   ]
  },
  {
   "cell_type": "markdown",
   "metadata": {},
   "source": [
    "## Data Manipulation"
   ]
  },
  {
   "cell_type": "markdown",
   "metadata": {},
   "source": [
    "Create validation set:"
   ]
  },
  {
   "cell_type": "code",
   "execution_count": 69,
   "metadata": {},
   "outputs": [],
   "source": [
    "from sklearn.model_selection import train_test_split\n",
    "\n",
    "x_train, x_validation, y_train, y_validation = train_test_split(x_train,\n",
    "                                                                y_train,\n",
    "                                                                test_size=10000)"
   ]
  },
  {
   "cell_type": "code",
   "execution_count": 70,
   "metadata": {},
   "outputs": [
    {
     "name": "stdout",
     "output_type": "stream",
     "text": [
      "(40000, 32, 32, 3)\n",
      "(10000, 32, 32, 3)\n",
      "(40000, 1)\n",
      "(10000, 1)\n"
     ]
    }
   ],
   "source": [
    "print(x_train.shape)\n",
    "print(x_validation.shape)\n",
    "print(y_train.shape)\n",
    "print(y_validation.shape)"
   ]
  },
  {
   "cell_type": "markdown",
   "metadata": {},
   "source": [
    "Converting vectors to dummy matrices:"
   ]
  },
  {
   "cell_type": "code",
   "execution_count": 71,
   "metadata": {},
   "outputs": [],
   "source": [
    "from keras.utils import to_categorical\n",
    "\n",
    "y_train = to_categorical(y_train)\n",
    "y_validation = to_categorical(y_validation)\n",
    "y_test = to_categorical(y_test)"
   ]
  },
  {
   "cell_type": "code",
   "execution_count": 72,
   "metadata": {},
   "outputs": [
    {
     "data": {
      "text/plain": [
       "array([[0., 0., 1., 0., 0., 0., 0., 0., 0., 0.],\n",
       "       [0., 0., 0., 0., 0., 0., 0., 0., 0., 1.],\n",
       "       [0., 0., 0., 0., 0., 1., 0., 0., 0., 0.],\n",
       "       [0., 0., 0., 1., 0., 0., 0., 0., 0., 0.],\n",
       "       [0., 0., 0., 0., 0., 0., 0., 0., 0., 1.],\n",
       "       [0., 0., 1., 0., 0., 0., 0., 0., 0., 0.],\n",
       "       [0., 0., 0., 0., 0., 1., 0., 0., 0., 0.],\n",
       "       [0., 0., 0., 0., 0., 0., 1., 0., 0., 0.],\n",
       "       [1., 0., 0., 0., 0., 0., 0., 0., 0., 0.],\n",
       "       [0., 0., 0., 0., 0., 0., 0., 0., 0., 1.]], dtype=float32)"
      ]
     },
     "execution_count": 72,
     "metadata": {},
     "output_type": "execute_result"
    }
   ],
   "source": [
    "y_train[0:10]"
   ]
  },
  {
   "cell_type": "markdown",
   "metadata": {},
   "source": [
    "## First Model\n",
    "\n",
    "A basic network with three convolutional layers followed by max pooling layers, a flattening layer and one densely-connected layer, followed by a softmax-activated output layer"
   ]
  },
  {
   "cell_type": "code",
   "execution_count": 73,
   "metadata": {},
   "outputs": [],
   "source": [
    "from keras import layers, models\n",
    "\n",
    "model_1 = models.Sequential()\n",
    "model_1.add(layers.Conv2D(32, (3, 3), \n",
    "                        activation='relu', \n",
    "                        input_shape=x_train.shape[1:]))\n",
    "model_1.add(layers.MaxPooling2D(pool_size=(2, 2)))\n",
    "model_1.add(layers.Conv2D(64, (3, 3), activation='relu'))\n",
    "model_1.add(layers.MaxPooling2D(pool_size=(2, 2)))\n",
    "model_1.add(layers.Conv2D(128, (3, 3), activation='relu'))\n",
    "model_1.add(layers.MaxPooling2D(pool_size=(2, 2)))\n",
    "model_1.add(layers.Flatten())\n",
    "model_1.add(layers.Dense(512, activation='relu'))\n",
    "model_1.add(layers.Dense(10, activation='softmax'))"
   ]
  },
  {
   "cell_type": "code",
   "execution_count": 74,
   "metadata": {},
   "outputs": [
    {
     "name": "stdout",
     "output_type": "stream",
     "text": [
      "_________________________________________________________________\n",
      "Layer (type)                 Output Shape              Param #   \n",
      "=================================================================\n",
      "conv2d_7 (Conv2D)            (None, 30, 30, 32)        896       \n",
      "_________________________________________________________________\n",
      "max_pooling2d_7 (MaxPooling2 (None, 15, 15, 32)        0         \n",
      "_________________________________________________________________\n",
      "conv2d_8 (Conv2D)            (None, 13, 13, 64)        18496     \n",
      "_________________________________________________________________\n",
      "max_pooling2d_8 (MaxPooling2 (None, 6, 6, 64)          0         \n",
      "_________________________________________________________________\n",
      "conv2d_9 (Conv2D)            (None, 4, 4, 128)         73856     \n",
      "_________________________________________________________________\n",
      "max_pooling2d_9 (MaxPooling2 (None, 2, 2, 128)         0         \n",
      "_________________________________________________________________\n",
      "flatten_8 (Flatten)          (None, 512)               0         \n",
      "_________________________________________________________________\n",
      "dense_15 (Dense)             (None, 512)               262656    \n",
      "_________________________________________________________________\n",
      "dense_16 (Dense)             (None, 10)                5130      \n",
      "=================================================================\n",
      "Total params: 361,034\n",
      "Trainable params: 361,034\n",
      "Non-trainable params: 0\n",
      "_________________________________________________________________\n"
     ]
    }
   ],
   "source": [
    "model_1.summary()"
   ]
  },
  {
   "cell_type": "code",
   "execution_count": 75,
   "metadata": {},
   "outputs": [],
   "source": [
    "from keras import optimizers\n",
    "model_1.compile(loss='categorical_crossentropy', \n",
    "              optimizer=optimizers.RMSprop(lr=1e-4),\n",
    "              metrics=['acc'])"
   ]
  },
  {
   "cell_type": "code",
   "execution_count": 76,
   "metadata": {},
   "outputs": [
    {
     "name": "stdout",
     "output_type": "stream",
     "text": [
      "Train on 40000 samples, validate on 10000 samples\n",
      "Epoch 1/30\n",
      "40000/40000 [==============================] - 12s 301us/step - loss: 2.4248 - acc: 0.3469 - val_loss: 1.5381 - val_acc: 0.4568\n",
      "Epoch 2/30\n",
      "40000/40000 [==============================] - 12s 290us/step - loss: 1.4071 - acc: 0.5042 - val_loss: 1.4481 - val_acc: 0.4930\n",
      "Epoch 3/30\n",
      "40000/40000 [==============================] - 11s 283us/step - loss: 1.2394 - acc: 0.5660 - val_loss: 1.2649 - val_acc: 0.5547\n",
      "Epoch 4/30\n",
      "40000/40000 [==============================] - 13s 316us/step - loss: 1.1171 - acc: 0.6158 - val_loss: 1.2192 - val_acc: 0.5814\n",
      "Epoch 5/30\n",
      "40000/40000 [==============================] - 11s 268us/step - loss: 1.0118 - acc: 0.6502 - val_loss: 1.2243 - val_acc: 0.5907\n",
      "Epoch 6/30\n",
      "40000/40000 [==============================] - 11s 273us/step - loss: 0.9232 - acc: 0.6822 - val_loss: 1.1480 - val_acc: 0.6123\n",
      "Epoch 7/30\n",
      "40000/40000 [==============================] - 11s 281us/step - loss: 0.8455 - acc: 0.7087 - val_loss: 1.2110 - val_acc: 0.6046\n",
      "Epoch 8/30\n",
      "40000/40000 [==============================] - 13s 317us/step - loss: 0.7723 - acc: 0.7339 - val_loss: 1.1388 - val_acc: 0.6371\n",
      "Epoch 9/30\n",
      "40000/40000 [==============================] - 12s 302us/step - loss: 0.7015 - acc: 0.7600 - val_loss: 1.1757 - val_acc: 0.6379\n",
      "Epoch 10/30\n",
      "40000/40000 [==============================] - 12s 306us/step - loss: 0.6404 - acc: 0.7808 - val_loss: 1.1725 - val_acc: 0.6370\n",
      "Epoch 11/30\n",
      "40000/40000 [==============================] - 12s 311us/step - loss: 0.5801 - acc: 0.8005 - val_loss: 1.1600 - val_acc: 0.6460\n",
      "Epoch 12/30\n",
      "40000/40000 [==============================] - 12s 298us/step - loss: 0.5232 - acc: 0.8205 - val_loss: 1.1929 - val_acc: 0.6435\n",
      "Epoch 13/30\n",
      "40000/40000 [==============================] - 12s 290us/step - loss: 0.4714 - acc: 0.8369 - val_loss: 1.2409 - val_acc: 0.6447\n",
      "Epoch 14/30\n",
      "40000/40000 [==============================] - 11s 280us/step - loss: 0.4232 - acc: 0.8545 - val_loss: 1.2686 - val_acc: 0.6479\n",
      "Epoch 15/30\n",
      "40000/40000 [==============================] - 11s 285us/step - loss: 0.3783 - acc: 0.8714 - val_loss: 1.3589 - val_acc: 0.6393\n",
      "Epoch 16/30\n",
      "40000/40000 [==============================] - 13s 313us/step - loss: 0.3378 - acc: 0.8856 - val_loss: 1.3603 - val_acc: 0.6517\n",
      "Epoch 17/30\n",
      "40000/40000 [==============================] - 11s 279us/step - loss: 0.2997 - acc: 0.8997 - val_loss: 1.3898 - val_acc: 0.6451\n",
      "Epoch 18/30\n",
      "40000/40000 [==============================] - 12s 295us/step - loss: 0.2667 - acc: 0.9103 - val_loss: 1.5058 - val_acc: 0.6467\n",
      "Epoch 19/30\n",
      "40000/40000 [==============================] - 12s 312us/step - loss: 0.2350 - acc: 0.9215 - val_loss: 1.5815 - val_acc: 0.6370\n",
      "Epoch 20/30\n",
      "40000/40000 [==============================] - 12s 311us/step - loss: 0.2074 - acc: 0.9314 - val_loss: 1.5207 - val_acc: 0.6460\n",
      "Epoch 21/30\n",
      "40000/40000 [==============================] - 12s 292us/step - loss: 0.1830 - acc: 0.9391 - val_loss: 1.5870 - val_acc: 0.6480\n",
      "Epoch 22/30\n",
      "40000/40000 [==============================] - 11s 275us/step - loss: 0.1593 - acc: 0.9479 - val_loss: 1.7815 - val_acc: 0.6437\n",
      "Epoch 23/30\n",
      "40000/40000 [==============================] - 11s 278us/step - loss: 0.1430 - acc: 0.9534 - val_loss: 1.7419 - val_acc: 0.6544\n",
      "Epoch 24/30\n",
      "40000/40000 [==============================] - 11s 284us/step - loss: 0.1265 - acc: 0.9587 - val_loss: 1.7666 - val_acc: 0.6538\n",
      "Epoch 25/30\n",
      "40000/40000 [==============================] - 12s 288us/step - loss: 0.1149 - acc: 0.9618 - val_loss: 1.9470 - val_acc: 0.6431\n",
      "Epoch 26/30\n",
      "40000/40000 [==============================] - 11s 283us/step - loss: 0.1022 - acc: 0.9670 - val_loss: 1.9237 - val_acc: 0.6579\n",
      "Epoch 27/30\n",
      "40000/40000 [==============================] - 13s 317us/step - loss: 0.0947 - acc: 0.9687 - val_loss: 2.1268 - val_acc: 0.6387\n",
      "Epoch 28/30\n",
      "40000/40000 [==============================] - 12s 298us/step - loss: 0.0845 - acc: 0.9735 - val_loss: 2.1023 - val_acc: 0.6395\n",
      "Epoch 29/30\n",
      "40000/40000 [==============================] - 11s 278us/step - loss: 0.0782 - acc: 0.9745 - val_loss: 2.1096 - val_acc: 0.6482\n",
      "Epoch 30/30\n",
      "40000/40000 [==============================] - 12s 302us/step - loss: 0.0722 - acc: 0.9767 - val_loss: 2.2226 - val_acc: 0.6401\n"
     ]
    }
   ],
   "source": [
    "history_1 = model_1.fit(x_train, y_train,\n",
    "                    batch_size=32,\n",
    "                    epochs=30,\n",
    "                    validation_data=(x_validation, y_validation))"
   ]
  },
  {
   "cell_type": "markdown",
   "metadata": {},
   "source": [
    "Plotting the results of above:"
   ]
  },
  {
   "cell_type": "code",
   "execution_count": 31,
   "metadata": {},
   "outputs": [],
   "source": [
    "import matplotlib.pyplot as plt"
   ]
  },
  {
   "cell_type": "code",
   "execution_count": 78,
   "metadata": {},
   "outputs": [
    {
     "data": {
      "image/png": "[encoded data removed]",
      "text/plain": [
       "<Figure size 432x288 with 1 Axes>"
      ]
     },
     "metadata": {
      "needs_background": "light"
     },
     "output_type": "display_data"
    },
    {
     "data": {
      "image/png": "[encoded data removed]",
      "text/plain": [
       "<Figure size 432x288 with 1 Axes>"
      ]
     },
     "metadata": {
      "needs_background": "light"
     },
     "output_type": "display_data"
    }
   ],
   "source": [
    "acc = history_1.history['acc']\n",
    "val_acc = history_1.history['val_acc']\n",
    "loss = history_1.history['loss']\n",
    "val_loss = history_1.history['val_loss']\n",
    "\n",
    "epochs = range(1, len(acc) + 1)\n",
    "\n",
    "plt.plot(epochs, acc, 'bo', label='Training loss')\n",
    "plt.plot(epochs, val_acc, 'b', label='Validation acc')\n",
    "plt.title('Training and validation accuracy')\n",
    "plt.legend()\n",
    "\n",
    "plt.figure()\n",
    "\n",
    "plt.plot(epochs, loss, 'bo', label='Training loss')\n",
    "plt.plot(epochs, val_loss, 'b', label='Validation loss')\n",
    "plt.title('Training and validation loss')\n",
    "plt.legend()\n",
    "\n",
    "plt.show()"
   ]
  },
  {
   "cell_type": "markdown",
   "metadata": {},
   "source": [
    "Looking at the convolutional layer activations:"
   ]
  },
  {
   "cell_type": "markdown",
   "metadata": {},
   "source": [
    "## Second Model\n",
    "\n",
    "Improving the first model by including data augmentation"
   ]
  },
  {
   "cell_type": "code",
   "execution_count": 79,
   "metadata": {},
   "outputs": [],
   "source": [
    "from keras.preprocessing.image import ImageDataGenerator\n",
    "\n",
    "datagen = ImageDataGenerator(rotation_range=40,\n",
    "                             width_shift_range=0.2,\n",
    "                             height_shift_range=0.2,\n",
    "                             shear_range=0.2,\n",
    "                             zoom_range=0.2,\n",
    "                             horizontal_flip=True,\n",
    "                             fill_mode='nearest')"
   ]
  },
  {
   "cell_type": "code",
   "execution_count": 80,
   "metadata": {},
   "outputs": [],
   "source": [
    "model_2 = models.Sequential()\n",
    "model_2.add(layers.Conv2D(32, (3, 3), \n",
    "                        activation='relu', \n",
    "                        input_shape=x_train.shape[1:]))\n",
    "model_2.add(layers.MaxPooling2D(pool_size=(2, 2)))\n",
    "model_2.add(layers.Conv2D(64, (3, 3), activation='relu'))\n",
    "model_2.add(layers.MaxPooling2D(pool_size=(2, 2)))\n",
    "model_2.add(layers.Conv2D(128, (3, 3), activation='relu'))\n",
    "model_2.add(layers.MaxPooling2D(pool_size=(2, 2)))\n",
    "model_2.add(layers.Flatten())\n",
    "model_2.add(layers.Dense(512, activation='relu'))\n",
    "model_2.add(layers.Dense(10, activation='softmax'))\n",
    "\n",
    "model_2.compile(loss='categorical_crossentropy', \n",
    "              optimizer=optimizers.RMSprop(lr=1e-4),\n",
    "              metrics=['acc'])"
   ]
  },
  {
   "cell_type": "code",
   "execution_count": 81,
   "metadata": {},
   "outputs": [
    {
     "name": "stdout",
     "output_type": "stream",
     "text": [
      "Epoch 1/100\n",
      "1000/1000 [==============================] - 25s 25ms/step - loss: 2.7331 - acc: 0.2520 - val_loss: 1.7371 - val_acc: 0.3784\n",
      "Epoch 2/100\n",
      "1000/1000 [==============================] - 23s 23ms/step - loss: 1.7663 - acc: 0.3607 - val_loss: 1.5806 - val_acc: 0.4416\n",
      "Epoch 3/100\n",
      "1000/1000 [==============================] - 23s 23ms/step - loss: 1.6676 - acc: 0.4029 - val_loss: 1.5305 - val_acc: 0.4601\n",
      "Epoch 4/100\n",
      "1000/1000 [==============================] - 24s 24ms/step - loss: 1.6046 - acc: 0.4253 - val_loss: 1.4425 - val_acc: 0.4873\n",
      "Epoch 5/100\n",
      "1000/1000 [==============================] - 23s 23ms/step - loss: 1.5497 - acc: 0.4462 - val_loss: 1.4820 - val_acc: 0.4864\n",
      "Epoch 6/100\n",
      "1000/1000 [==============================] - 23s 23ms/step - loss: 1.5067 - acc: 0.4678 - val_loss: 1.4746 - val_acc: 0.4808\n",
      "Epoch 7/100\n",
      "1000/1000 [==============================] - 25s 25ms/step - loss: 1.4681 - acc: 0.4788 - val_loss: 1.2637 - val_acc: 0.5484\n",
      "Epoch 8/100\n",
      "1000/1000 [==============================] - 24s 24ms/step - loss: 1.4392 - acc: 0.4910 - val_loss: 1.2228 - val_acc: 0.5705\n",
      "Epoch 9/100\n",
      "1000/1000 [==============================] - 23s 23ms/step - loss: 1.4091 - acc: 0.5028 - val_loss: 1.3895 - val_acc: 0.5248\n",
      "Epoch 10/100\n",
      "1000/1000 [==============================] - 23s 23ms/step - loss: 1.3840 - acc: 0.5117 - val_loss: 1.2410 - val_acc: 0.5630\n",
      "Epoch 11/100\n",
      "1000/1000 [==============================] - 24s 24ms/step - loss: 1.3614 - acc: 0.5178 - val_loss: 1.2005 - val_acc: 0.5759\n",
      "Epoch 12/100\n",
      "1000/1000 [==============================] - 23s 23ms/step - loss: 1.3380 - acc: 0.5276 - val_loss: 1.1941 - val_acc: 0.5833\n",
      "Epoch 13/100\n",
      "1000/1000 [==============================] - 25s 25ms/step - loss: 1.3302 - acc: 0.5320 - val_loss: 1.2053 - val_acc: 0.5841\n",
      "Epoch 14/100\n",
      "1000/1000 [==============================] - 26s 26ms/step - loss: 1.3160 - acc: 0.5348 - val_loss: 1.2358 - val_acc: 0.5735\n",
      "Epoch 15/100\n",
      "1000/1000 [==============================] - 24s 24ms/step - loss: 1.2912 - acc: 0.5471 - val_loss: 1.2903 - val_acc: 0.5615\n",
      "Epoch 16/100\n",
      "1000/1000 [==============================] - 23s 23ms/step - loss: 1.2849 - acc: 0.5492 - val_loss: 1.2444 - val_acc: 0.5734\n",
      "Epoch 17/100\n",
      "1000/1000 [==============================] - 24s 24ms/step - loss: 1.2721 - acc: 0.5544 - val_loss: 1.1233 - val_acc: 0.6110\n",
      "Epoch 18/100\n",
      "1000/1000 [==============================] - 24s 24ms/step - loss: 1.2493 - acc: 0.5619 - val_loss: 1.1440 - val_acc: 0.6049\n",
      "Epoch 19/100\n",
      "1000/1000 [==============================] - 24s 24ms/step - loss: 1.2504 - acc: 0.5690 - val_loss: 1.1331 - val_acc: 0.6062\n",
      "Epoch 20/100\n",
      "1000/1000 [==============================] - 27s 27ms/step - loss: 1.2349 - acc: 0.5672 - val_loss: 1.1661 - val_acc: 0.6020\n",
      "Epoch 21/100\n",
      "1000/1000 [==============================] - 25s 25ms/step - loss: 1.2392 - acc: 0.5668 - val_loss: 1.1536 - val_acc: 0.6043\n",
      "Epoch 22/100\n",
      "1000/1000 [==============================] - 25s 25ms/step - loss: 1.2186 - acc: 0.5743 - val_loss: 1.1464 - val_acc: 0.6070\n",
      "Epoch 23/100\n",
      "1000/1000 [==============================] - 23s 23ms/step - loss: 1.2132 - acc: 0.5773 - val_loss: 1.0541 - val_acc: 0.6295\n",
      "Epoch 24/100\n",
      "1000/1000 [==============================] - 23s 23ms/step - loss: 1.2141 - acc: 0.5748 - val_loss: 1.1186 - val_acc: 0.6156\n",
      "Epoch 25/100\n",
      "1000/1000 [==============================] - 24s 24ms/step - loss: 1.2042 - acc: 0.5799 - val_loss: 1.1688 - val_acc: 0.6032\n",
      "Epoch 26/100\n",
      "1000/1000 [==============================] - 23s 23ms/step - loss: 1.1978 - acc: 0.5787 - val_loss: 1.1054 - val_acc: 0.6178\n",
      "Epoch 27/100\n",
      "1000/1000 [==============================] - 23s 23ms/step - loss: 1.1902 - acc: 0.5872 - val_loss: 1.0698 - val_acc: 0.6306\n",
      "Epoch 28/100\n",
      "1000/1000 [==============================] - 24s 24ms/step - loss: 1.1909 - acc: 0.5851 - val_loss: 1.1180 - val_acc: 0.6141\n",
      "Epoch 29/100\n",
      "1000/1000 [==============================] - 23s 23ms/step - loss: 1.1828 - acc: 0.5895 - val_loss: 1.0232 - val_acc: 0.6442\n",
      "Epoch 30/100\n",
      "1000/1000 [==============================] - 24s 24ms/step - loss: 1.1784 - acc: 0.5919 - val_loss: 1.0855 - val_acc: 0.6332\n",
      "Epoch 31/100\n",
      "1000/1000 [==============================] - 23s 23ms/step - loss: 1.1767 - acc: 0.5933 - val_loss: 1.0634 - val_acc: 0.6351\n",
      "Epoch 32/100\n",
      "1000/1000 [==============================] - 23s 23ms/step - loss: 1.1846 - acc: 0.5888 - val_loss: 1.0743 - val_acc: 0.6267\n",
      "Epoch 33/100\n",
      "1000/1000 [==============================] - 24s 24ms/step - loss: 1.1762 - acc: 0.5922 - val_loss: 1.0506 - val_acc: 0.6382\n",
      "Epoch 34/100\n",
      "1000/1000 [==============================] - 24s 24ms/step - loss: 1.1754 - acc: 0.5913 - val_loss: 1.0765 - val_acc: 0.6420\n",
      "Epoch 35/100\n",
      "1000/1000 [==============================] - 24s 24ms/step - loss: 1.1690 - acc: 0.5963 - val_loss: 1.0504 - val_acc: 0.6547\n",
      "Epoch 36/100\n",
      "1000/1000 [==============================] - 23s 23ms/step - loss: 1.1638 - acc: 0.5962 - val_loss: 1.1918 - val_acc: 0.6032\n",
      "Epoch 37/100\n",
      "1000/1000 [==============================] - 23s 23ms/step - loss: 1.1698 - acc: 0.5961 - val_loss: 1.0212 - val_acc: 0.6511\n",
      "Epoch 38/100\n",
      "1000/1000 [==============================] - 24s 24ms/step - loss: 1.1643 - acc: 0.5987 - val_loss: 1.0543 - val_acc: 0.6432\n",
      "Epoch 39/100\n",
      "1000/1000 [==============================] - 24s 24ms/step - loss: 1.1674 - acc: 0.5944 - val_loss: 1.0991 - val_acc: 0.6296\n",
      "Epoch 40/100\n",
      "1000/1000 [==============================] - 24s 24ms/step - loss: 1.1668 - acc: 0.5982 - val_loss: 1.1321 - val_acc: 0.6291\n",
      "Epoch 41/100\n",
      "1000/1000 [==============================] - 25s 25ms/step - loss: 1.1676 - acc: 0.5950 - val_loss: 1.0201 - val_acc: 0.6621\n",
      "Epoch 42/100\n",
      "1000/1000 [==============================] - 24s 24ms/step - loss: 1.1621 - acc: 0.6015 - val_loss: 1.0310 - val_acc: 0.6524\n",
      "Epoch 43/100\n",
      "1000/1000 [==============================] - 25s 25ms/step - loss: 1.1586 - acc: 0.6011 - val_loss: 1.0552 - val_acc: 0.6459\n",
      "Epoch 44/100\n",
      "1000/1000 [==============================] - 23s 23ms/step - loss: 1.1565 - acc: 0.5999 - val_loss: 1.0764 - val_acc: 0.6306\n",
      "Epoch 45/100\n",
      "1000/1000 [==============================] - 25s 25ms/step - loss: 1.1577 - acc: 0.6017 - val_loss: 1.2060 - val_acc: 0.5940\n",
      "Epoch 46/100\n",
      "1000/1000 [==============================] - 25s 25ms/step - loss: 1.1558 - acc: 0.6039 - val_loss: 1.0308 - val_acc: 0.6637\n",
      "Epoch 47/100\n",
      "1000/1000 [==============================] - 25s 25ms/step - loss: 1.1504 - acc: 0.6018 - val_loss: 1.0369 - val_acc: 0.6668\n",
      "Epoch 48/100\n",
      "1000/1000 [==============================] - 24s 24ms/step - loss: 1.1486 - acc: 0.6050 - val_loss: 1.1244 - val_acc: 0.6218\n",
      "Epoch 49/100\n",
      "1000/1000 [==============================] - 26s 26ms/step - loss: 1.1474 - acc: 0.6070 - val_loss: 1.0499 - val_acc: 0.6515\n",
      "Epoch 50/100\n",
      "1000/1000 [==============================] - 27s 27ms/step - loss: 1.1437 - acc: 0.6085 - val_loss: 1.0282 - val_acc: 0.6548s - loss: 1.1440 - acc: \n",
      "Epoch 51/100\n",
      "1000/1000 [==============================] - 25s 25ms/step - loss: 1.1467 - acc: 0.6047 - val_loss: 1.1671 - val_acc: 0.6219\n",
      "Epoch 52/100\n",
      "1000/1000 [==============================] - 26s 26ms/step - loss: 1.1495 - acc: 0.6050 - val_loss: 0.9755 - val_acc: 0.6675\n",
      "Epoch 53/100\n",
      "1000/1000 [==============================] - 25s 25ms/step - loss: 1.1457 - acc: 0.6048 - val_loss: 1.1315 - val_acc: 0.6203\n",
      "Epoch 54/100\n",
      "1000/1000 [==============================] - 26s 26ms/step - loss: 1.1427 - acc: 0.6077 - val_loss: 1.1629 - val_acc: 0.6172\n",
      "Epoch 55/100\n",
      "1000/1000 [==============================] - 25s 25ms/step - loss: 1.1415 - acc: 0.6095 - val_loss: 1.0649 - val_acc: 0.6485\n",
      "Epoch 56/100\n",
      "1000/1000 [==============================] - 24s 24ms/step - loss: 1.1485 - acc: 0.6104 - val_loss: 0.9543 - val_acc: 0.6788\n",
      "Epoch 57/100\n",
      "1000/1000 [==============================] - 25s 25ms/step - loss: 1.1518 - acc: 0.6052 - val_loss: 0.9960 - val_acc: 0.6666\n",
      "Epoch 58/100\n",
      "1000/1000 [==============================] - 24s 24ms/step - loss: 1.1447 - acc: 0.6089 - val_loss: 1.1177 - val_acc: 0.6304\n",
      "Epoch 59/100\n",
      "1000/1000 [==============================] - 27s 27ms/step - loss: 1.1374 - acc: 0.6095 - val_loss: 1.0226 - val_acc: 0.6698\n",
      "Epoch 60/100\n"
     ]
    },
    {
     "name": "stdout",
     "output_type": "stream",
     "text": [
      "1000/1000 [==============================] - 24s 24ms/step - loss: 1.1515 - acc: 0.6055 - val_loss: 1.1240 - val_acc: 0.6306\n",
      "Epoch 61/100\n",
      "1000/1000 [==============================] - 23s 23ms/step - loss: 1.1397 - acc: 0.6095 - val_loss: 1.2617 - val_acc: 0.5840\n",
      "Epoch 62/100\n",
      "1000/1000 [==============================] - 23s 23ms/step - loss: 1.1418 - acc: 0.6069 - val_loss: 1.0683 - val_acc: 0.6589\n",
      "Epoch 63/100\n",
      "1000/1000 [==============================] - 23s 23ms/step - loss: 1.1435 - acc: 0.6104 - val_loss: 1.1210 - val_acc: 0.6355\n",
      "Epoch 64/100\n",
      "1000/1000 [==============================] - 24s 24ms/step - loss: 1.1424 - acc: 0.6051 - val_loss: 0.9741 - val_acc: 0.6734\n",
      "Epoch 65/100\n",
      "1000/1000 [==============================] - 23s 23ms/step - loss: 1.1390 - acc: 0.6092 - val_loss: 1.0616 - val_acc: 0.6351\n",
      "Epoch 66/100\n",
      "1000/1000 [==============================] - 23s 23ms/step - loss: 1.1447 - acc: 0.6080 - val_loss: 0.9987 - val_acc: 0.6556\n",
      "Epoch 67/100\n",
      "1000/1000 [==============================] - 23s 23ms/step - loss: 1.1405 - acc: 0.6073 - val_loss: 1.0504 - val_acc: 0.6520\n",
      "Epoch 68/100\n",
      "1000/1000 [==============================] - 20s 20ms/step - loss: 1.1445 - acc: 0.6096 - val_loss: 0.9831 - val_acc: 0.6846\n",
      "Epoch 69/100\n",
      "1000/1000 [==============================] - 19s 19ms/step - loss: 1.1343 - acc: 0.6134 - val_loss: 1.0436 - val_acc: 0.6423\n",
      "Epoch 70/100\n",
      "1000/1000 [==============================] - 19s 19ms/step - loss: 1.1329 - acc: 0.6142 - val_loss: 1.2745 - val_acc: 0.5997\n",
      "Epoch 71/100\n",
      "1000/1000 [==============================] - 19s 19ms/step - loss: 1.1353 - acc: 0.6145 - val_loss: 0.9683 - val_acc: 0.6729\n",
      "Epoch 72/100\n",
      "1000/1000 [==============================] - 20s 20ms/step - loss: 1.1430 - acc: 0.6102 - val_loss: 1.0764 - val_acc: 0.6435\n",
      "Epoch 73/100\n",
      "1000/1000 [==============================] - 20s 20ms/step - loss: 1.1366 - acc: 0.6090 - val_loss: 1.0819 - val_acc: 0.6590\n",
      "Epoch 74/100\n",
      "1000/1000 [==============================] - 19s 19ms/step - loss: 1.1386 - acc: 0.6125 - val_loss: 0.9971 - val_acc: 0.6637\n",
      "Epoch 75/100\n",
      "1000/1000 [==============================] - 19s 19ms/step - loss: 1.1296 - acc: 0.6127 - val_loss: 0.9869 - val_acc: 0.6618\n",
      "Epoch 76/100\n",
      "1000/1000 [==============================] - 19s 19ms/step - loss: 1.1361 - acc: 0.6114 - val_loss: 1.0299 - val_acc: 0.6504\n",
      "Epoch 77/100\n",
      "1000/1000 [==============================] - 20s 20ms/step - loss: 1.1341 - acc: 0.6107 - val_loss: 1.2271 - val_acc: 0.6220\n",
      "Epoch 78/100\n",
      "1000/1000 [==============================] - 19s 19ms/step - loss: 1.1346 - acc: 0.6119 - val_loss: 1.1279 - val_acc: 0.6238\n",
      "Epoch 79/100\n",
      "1000/1000 [==============================] - 19s 19ms/step - loss: 1.1262 - acc: 0.6163 - val_loss: 1.0767 - val_acc: 0.6316\n",
      "Epoch 80/100\n",
      "1000/1000 [==============================] - 19s 19ms/step - loss: 1.1351 - acc: 0.6141 - val_loss: 1.0776 - val_acc: 0.6435\n",
      "Epoch 81/100\n",
      "1000/1000 [==============================] - 19s 19ms/step - loss: 1.1302 - acc: 0.6138 - val_loss: 1.0714 - val_acc: 0.6398\n",
      "Epoch 82/100\n",
      "1000/1000 [==============================] - 19s 19ms/step - loss: 1.1406 - acc: 0.6116 - val_loss: 1.0288 - val_acc: 0.6491\n",
      "Epoch 83/100\n",
      "1000/1000 [==============================] - 19s 19ms/step - loss: 1.1343 - acc: 0.6134 - val_loss: 1.2025 - val_acc: 0.6247\n",
      "Epoch 84/100\n",
      "1000/1000 [==============================] - 19s 19ms/step - loss: 1.1250 - acc: 0.6165 - val_loss: 0.9919 - val_acc: 0.6812\n",
      "Epoch 85/100\n",
      "1000/1000 [==============================] - 19s 19ms/step - loss: 1.1371 - acc: 0.6131 - val_loss: 0.9533 - val_acc: 0.6733\n",
      "Epoch 86/100\n",
      "1000/1000 [==============================] - 19s 19ms/step - loss: 1.1259 - acc: 0.6152 - val_loss: 0.9971 - val_acc: 0.6688\n",
      "Epoch 87/100\n",
      "1000/1000 [==============================] - 19s 19ms/step - loss: 1.1306 - acc: 0.6162 - val_loss: 1.1236 - val_acc: 0.6255\n",
      "Epoch 88/100\n",
      "1000/1000 [==============================] - 19s 19ms/step - loss: 1.1293 - acc: 0.6139 - val_loss: 0.9750 - val_acc: 0.6743\n",
      "Epoch 89/100\n",
      "1000/1000 [==============================] - 19s 19ms/step - loss: 1.1339 - acc: 0.6117 - val_loss: 1.1240 - val_acc: 0.6365\n",
      "Epoch 90/100\n",
      "1000/1000 [==============================] - 19s 19ms/step - loss: 1.1359 - acc: 0.6118 - val_loss: 1.0046 - val_acc: 0.6717\n",
      "Epoch 91/100\n",
      "1000/1000 [==============================] - 19s 19ms/step - loss: 1.1383 - acc: 0.6110 - val_loss: 1.1340 - val_acc: 0.6249\n",
      "Epoch 92/100\n",
      "1000/1000 [==============================] - 19s 19ms/step - loss: 1.1389 - acc: 0.6148 - val_loss: 1.1285 - val_acc: 0.6351\n",
      "Epoch 93/100\n",
      "1000/1000 [==============================] - 19s 19ms/step - loss: 1.1319 - acc: 0.6155 - val_loss: 1.0769 - val_acc: 0.6723\n",
      "Epoch 94/100\n",
      "1000/1000 [==============================] - 19s 19ms/step - loss: 1.1334 - acc: 0.6141 - val_loss: 1.2860 - val_acc: 0.6179\n",
      "Epoch 95/100\n",
      "1000/1000 [==============================] - 19s 19ms/step - loss: 1.1334 - acc: 0.6168 - val_loss: 1.0102 - val_acc: 0.6600\n",
      "Epoch 96/100\n",
      "1000/1000 [==============================] - 19s 19ms/step - loss: 1.1306 - acc: 0.6134 - val_loss: 1.0084 - val_acc: 0.6567\n",
      "Epoch 97/100\n",
      "1000/1000 [==============================] - 19s 19ms/step - loss: 1.1338 - acc: 0.6139 - val_loss: 0.9803 - val_acc: 0.6649\n",
      "Epoch 98/100\n",
      "1000/1000 [==============================] - 19s 19ms/step - loss: 1.1297 - acc: 0.6174 - val_loss: 1.2566 - val_acc: 0.6218\n",
      "Epoch 99/100\n",
      "1000/1000 [==============================] - 19s 19ms/step - loss: 1.1431 - acc: 0.6136 - val_loss: 1.0446 - val_acc: 0.6590\n",
      "Epoch 100/100\n",
      "1000/1000 [==============================] - 19s 19ms/step - loss: 1.1321 - acc: 0.6163 - val_loss: 1.1021 - val_acc: 0.6538\n"
     ]
    }
   ],
   "source": [
    "history_2 = model_2.fit_generator(datagen.flow(x_train, y_train,\n",
    "                                           batch_size=40),\n",
    "                              steps_per_epoch=1000,  # unique samples divided by batch_size\n",
    "                              epochs=100,\n",
    "                              validation_data=(x_validation, y_validation),\n",
    "                              workers=4)"
   ]
  },
  {
   "cell_type": "code",
   "execution_count": 82,
   "metadata": {},
   "outputs": [
    {
     "data": {
      "image/png": "[encoded data removed]",
      "text/plain": [
       "<Figure size 432x288 with 1 Axes>"
      ]
     },
     "metadata": {
      "needs_background": "light"
     },
     "output_type": "display_data"
    },
    {
     "data": {
      "image/png": "[encoded data removed]",
      "text/plain": [
       "<Figure size 432x288 with 1 Axes>"
      ]
     },
     "metadata": {
      "needs_background": "light"
     },
     "output_type": "display_data"
    }
   ],
   "source": [
    "acc = history_2.history['acc']\n",
    "val_acc = history_2.history['val_acc']\n",
    "loss = history_2.history['loss']\n",
    "val_loss = history_2.history['val_loss']\n",
    "\n",
    "epochs = range(1, len(acc) + 1)\n",
    "\n",
    "plt.plot(epochs, acc, 'bo', label='Training loss')\n",
    "plt.plot(epochs, val_acc, 'b', label='Validation acc')\n",
    "plt.title('Training and validation accuracy')\n",
    "plt.legend()\n",
    "\n",
    "plt.figure()\n",
    "\n",
    "plt.plot(epochs, loss, 'bo', label='Training loss')\n",
    "plt.plot(epochs, val_loss, 'b', label='Validation loss')\n",
    "plt.title('Training and validation loss')\n",
    "plt.legend()\n",
    "\n",
    "plt.show()"
   ]
  },
  {
   "cell_type": "markdown",
   "metadata": {},
   "source": [
    "## Third Model\n",
    "\n",
    "Using a pretrained model without data augmentation"
   ]
  },
  {
   "cell_type": "code",
   "execution_count": 42,
   "metadata": {},
   "outputs": [],
   "source": [
    "# using the VGG16 model from Karen Simonyan and Andrew Zisserman\n",
    "from keras.applications.vgg16 import VGG16\n",
    "\n",
    "conv_base = VGG16(weights='imagenet',\n",
    "                     include_top=False,\n",
    "                     input_shape=(32, 32, 3))\n",
    "conv_base.trainable = False"
   ]
  },
  {
   "cell_type": "code",
   "execution_count": 43,
   "metadata": {},
   "outputs": [
    {
     "name": "stdout",
     "output_type": "stream",
     "text": [
      "_________________________________________________________________\n",
      "Layer (type)                 Output Shape              Param #   \n",
      "=================================================================\n",
      "input_1 (InputLayer)         (None, 32, 32, 3)         0         \n",
      "_________________________________________________________________\n",
      "block1_conv1 (Conv2D)        (None, 32, 32, 64)        1792      \n",
      "_________________________________________________________________\n",
      "block1_conv2 (Conv2D)        (None, 32, 32, 64)        36928     \n",
      "_________________________________________________________________\n",
      "block1_pool (MaxPooling2D)   (None, 16, 16, 64)        0         \n",
      "_________________________________________________________________\n",
      "block2_conv1 (Conv2D)        (None, 16, 16, 128)       73856     \n",
      "_________________________________________________________________\n",
      "block2_conv2 (Conv2D)        (None, 16, 16, 128)       147584    \n",
      "_________________________________________________________________\n",
      "block2_pool (MaxPooling2D)   (None, 8, 8, 128)         0         \n",
      "_________________________________________________________________\n",
      "block3_conv1 (Conv2D)        (None, 8, 8, 256)         295168    \n",
      "_________________________________________________________________\n",
      "block3_conv2 (Conv2D)        (None, 8, 8, 256)         590080    \n",
      "_________________________________________________________________\n",
      "block3_conv3 (Conv2D)        (None, 8, 8, 256)         590080    \n",
      "_________________________________________________________________\n",
      "block3_pool (MaxPooling2D)   (None, 4, 4, 256)         0         \n",
      "_________________________________________________________________\n",
      "block4_conv1 (Conv2D)        (None, 4, 4, 512)         1180160   \n",
      "_________________________________________________________________\n",
      "block4_conv2 (Conv2D)        (None, 4, 4, 512)         2359808   \n",
      "_________________________________________________________________\n",
      "block4_conv3 (Conv2D)        (None, 4, 4, 512)         2359808   \n",
      "_________________________________________________________________\n",
      "block4_pool (MaxPooling2D)   (None, 2, 2, 512)         0         \n",
      "_________________________________________________________________\n",
      "block5_conv1 (Conv2D)        (None, 2, 2, 512)         2359808   \n",
      "_________________________________________________________________\n",
      "block5_conv2 (Conv2D)        (None, 2, 2, 512)         2359808   \n",
      "_________________________________________________________________\n",
      "block5_conv3 (Conv2D)        (None, 2, 2, 512)         2359808   \n",
      "_________________________________________________________________\n",
      "block5_pool (MaxPooling2D)   (None, 1, 1, 512)         0         \n",
      "=================================================================\n",
      "Total params: 14,714,688\n",
      "Trainable params: 0\n",
      "Non-trainable params: 14,714,688\n",
      "_________________________________________________________________\n"
     ]
    }
   ],
   "source": [
    "conv_base.summary()"
   ]
  },
  {
   "cell_type": "code",
   "execution_count": 51,
   "metadata": {},
   "outputs": [
    {
     "name": "stdout",
     "output_type": "stream",
     "text": [
      "Train on 40000 samples, validate on 10000 samples\n",
      "Epoch 1/100\n",
      "40000/40000 [==============================] - 22s 556us/step - loss: 6.0345 - acc: 0.3814 - val_loss: 4.0476 - val_acc: 0.4880\n",
      "Epoch 2/100\n",
      "40000/40000 [==============================] - 23s 579us/step - loss: 3.4115 - acc: 0.5093 - val_loss: 3.2097 - val_acc: 0.5055\n",
      "Epoch 3/100\n",
      "40000/40000 [==============================] - 21s 537us/step - loss: 2.6102 - acc: 0.5502 - val_loss: 2.7128 - val_acc: 0.5363\n",
      "Epoch 4/100\n",
      "40000/40000 [==============================] - 23s 574us/step - loss: 2.1431 - acc: 0.5834 - val_loss: 2.5118 - val_acc: 0.5338\n",
      "Epoch 5/100\n",
      "40000/40000 [==============================] - 21s 529us/step - loss: 1.8315 - acc: 0.6076 - val_loss: 2.3144 - val_acc: 0.5490\n",
      "Epoch 6/100\n",
      "40000/40000 [==============================] - 21s 524us/step - loss: 1.6035 - acc: 0.6312 - val_loss: 2.2049 - val_acc: 0.5530\n",
      "Epoch 7/100\n",
      "40000/40000 [==============================] - 22s 552us/step - loss: 1.4341 - acc: 0.6528 - val_loss: 2.1259 - val_acc: 0.5566\n",
      "Epoch 8/100\n",
      "40000/40000 [==============================] - 23s 573us/step - loss: 1.3003 - acc: 0.6737 - val_loss: 2.0453 - val_acc: 0.5568\n",
      "Epoch 9/100\n",
      "40000/40000 [==============================] - 21s 536us/step - loss: 1.1929 - acc: 0.6874 - val_loss: 1.9819 - val_acc: 0.5654\n",
      "Epoch 10/100\n",
      "40000/40000 [==============================] - 21s 530us/step - loss: 1.0995 - acc: 0.7063 - val_loss: 1.9598 - val_acc: 0.5695\n",
      "Epoch 11/100\n",
      "40000/40000 [==============================] - 20s 507us/step - loss: 1.0259 - acc: 0.7200 - val_loss: 1.9227 - val_acc: 0.5688\n",
      "Epoch 12/100\n",
      "40000/40000 [==============================] - 20s 506us/step - loss: 0.9625 - acc: 0.7305 - val_loss: 1.9355 - val_acc: 0.5671\n",
      "Epoch 13/100\n",
      "40000/40000 [==============================] - 20s 499us/step - loss: 0.9057 - acc: 0.7460 - val_loss: 1.8941 - val_acc: 0.5745\n",
      "Epoch 14/100\n",
      "40000/40000 [==============================] - 20s 505us/step - loss: 0.8550 - acc: 0.7559 - val_loss: 1.8815 - val_acc: 0.5703\n",
      "Epoch 15/100\n",
      "40000/40000 [==============================] - 20s 504us/step - loss: 0.8137 - acc: 0.7671 - val_loss: 1.8769 - val_acc: 0.5781\n",
      "Epoch 16/100\n",
      "40000/40000 [==============================] - 20s 508us/step - loss: 0.7720 - acc: 0.7780 - val_loss: 1.8702 - val_acc: 0.5752\n",
      "Epoch 17/100\n",
      "40000/40000 [==============================] - 22s 561us/step - loss: 0.7357 - acc: 0.7878 - val_loss: 1.8817 - val_acc: 0.5728\n",
      "Epoch 18/100\n",
      "40000/40000 [==============================] - 21s 521us/step - loss: 0.7041 - acc: 0.7946 - val_loss: 1.8788 - val_acc: 0.5772\n",
      "Epoch 19/100\n",
      "40000/40000 [==============================] - 21s 522us/step - loss: 0.6745 - acc: 0.8042 - val_loss: 1.9073 - val_acc: 0.5758\n",
      "Epoch 20/100\n",
      "40000/40000 [==============================] - 21s 530us/step - loss: 0.6433 - acc: 0.8129 - val_loss: 1.9290 - val_acc: 0.5803\n",
      "Epoch 21/100\n",
      "40000/40000 [==============================] - 24s 602us/step - loss: 0.6189 - acc: 0.8204 - val_loss: 1.9540 - val_acc: 0.5732\n",
      "Epoch 22/100\n",
      "40000/40000 [==============================] - 25s 623us/step - loss: 0.5944 - acc: 0.8265 - val_loss: 1.9474 - val_acc: 0.5779\n",
      "Epoch 23/100\n",
      "40000/40000 [==============================] - 21s 516us/step - loss: 0.5707 - acc: 0.8349 - val_loss: 1.9704 - val_acc: 0.5776\n",
      "Epoch 24/100\n",
      "40000/40000 [==============================] - 21s 516us/step - loss: 0.5502 - acc: 0.8405 - val_loss: 2.0004 - val_acc: 0.5767\n",
      "Epoch 25/100\n",
      "40000/40000 [==============================] - 23s 566us/step - loss: 0.5296 - acc: 0.8473 - val_loss: 2.0157 - val_acc: 0.5740\n",
      "Epoch 26/100\n",
      "40000/40000 [==============================] - 21s 521us/step - loss: 0.5110 - acc: 0.8531 - val_loss: 2.0396 - val_acc: 0.5742\n",
      "Epoch 27/100\n",
      "40000/40000 [==============================] - 21s 534us/step - loss: 0.4906 - acc: 0.8607 - val_loss: 2.0543 - val_acc: 0.5758\n",
      "Epoch 28/100\n",
      "40000/40000 [==============================] - 22s 560us/step - loss: 0.4751 - acc: 0.8660 - val_loss: 2.0895 - val_acc: 0.5764\n",
      "Epoch 29/100\n",
      "40000/40000 [==============================] - 22s 551us/step - loss: 0.4582 - acc: 0.8693 - val_loss: 2.1093 - val_acc: 0.5730\n",
      "Epoch 30/100\n",
      "40000/40000 [==============================] - 22s 545us/step - loss: 0.4400 - acc: 0.8770 - val_loss: 2.1445 - val_acc: 0.5692\n",
      "Epoch 31/100\n",
      "40000/40000 [==============================] - 23s 573us/step - loss: 0.4251 - acc: 0.8816 - val_loss: 2.1624 - val_acc: 0.5745\n",
      "Epoch 32/100\n",
      "40000/40000 [==============================] - 21s 523us/step - loss: 0.4097 - acc: 0.8860 - val_loss: 2.2072 - val_acc: 0.5740\n",
      "Epoch 33/100\n",
      "40000/40000 [==============================] - 21s 533us/step - loss: 0.3951 - acc: 0.8902 - val_loss: 2.2222 - val_acc: 0.5699\n",
      "Epoch 34/100\n",
      "40000/40000 [==============================] - 21s 522us/step - loss: 0.3821 - acc: 0.8948 - val_loss: 2.2563 - val_acc: 0.5708\n",
      "Epoch 35/100\n",
      "40000/40000 [==============================] - 21s 516us/step - loss: 0.3675 - acc: 0.8989 - val_loss: 2.2872 - val_acc: 0.5693\n",
      "Epoch 36/100\n",
      "40000/40000 [==============================] - 21s 517us/step - loss: 0.3551 - acc: 0.9042 - val_loss: 2.3277 - val_acc: 0.5723\n",
      "Epoch 37/100\n",
      "40000/40000 [==============================] - 21s 520us/step - loss: 0.3424 - acc: 0.9087 - val_loss: 2.3644 - val_acc: 0.5691\n",
      "Epoch 38/100\n",
      "40000/40000 [==============================] - 21s 516us/step - loss: 0.3293 - acc: 0.9114 - val_loss: 2.3932 - val_acc: 0.5717\n",
      "Epoch 39/100\n",
      "40000/40000 [==============================] - 22s 538us/step - loss: 0.3183 - acc: 0.9155 - val_loss: 2.4188 - val_acc: 0.5726\n",
      "Epoch 40/100\n",
      "40000/40000 [==============================] - 21s 524us/step - loss: 0.3073 - acc: 0.9195 - val_loss: 2.4561 - val_acc: 0.5701\n",
      "Epoch 41/100\n",
      "40000/40000 [==============================] - 23s 565us/step - loss: 0.2967 - acc: 0.9227 - val_loss: 2.4928 - val_acc: 0.5646\n",
      "Epoch 42/100\n",
      "40000/40000 [==============================] - 22s 560us/step - loss: 0.2853 - acc: 0.9261 - val_loss: 2.5313 - val_acc: 0.5669\n",
      "Epoch 43/100\n",
      "40000/40000 [==============================] - 21s 531us/step - loss: 0.2766 - acc: 0.9294 - val_loss: 2.5528 - val_acc: 0.5684\n",
      "Epoch 44/100\n",
      "40000/40000 [==============================] - 22s 548us/step - loss: 0.2662 - acc: 0.9321 - val_loss: 2.5937 - val_acc: 0.5628\n",
      "Epoch 45/100\n",
      "40000/40000 [==============================] - 21s 529us/step - loss: 0.2564 - acc: 0.9363 - val_loss: 2.6137 - val_acc: 0.5685\n",
      "Epoch 46/100\n",
      "40000/40000 [==============================] - 21s 530us/step - loss: 0.2464 - acc: 0.9399 - val_loss: 2.6711 - val_acc: 0.5649\n",
      "Epoch 47/100\n",
      "40000/40000 [==============================] - 21s 532us/step - loss: 0.2380 - acc: 0.9418 - val_loss: 2.6765 - val_acc: 0.5700\n",
      "Epoch 48/100\n",
      "40000/40000 [==============================] - 22s 556us/step - loss: 0.2304 - acc: 0.9433 - val_loss: 2.7441 - val_acc: 0.5662\n",
      "Epoch 49/100\n",
      "40000/40000 [==============================] - 23s 580us/step - loss: 0.2211 - acc: 0.9460 - val_loss: 2.7727 - val_acc: 0.5638\n",
      "Epoch 50/100\n",
      "40000/40000 [==============================] - 23s 585us/step - loss: 0.2136 - acc: 0.9495 - val_loss: 2.7910 - val_acc: 0.5671\n",
      "Epoch 51/100\n",
      "40000/40000 [==============================] - 22s 547us/step - loss: 0.2056 - acc: 0.9514 - val_loss: 2.8364 - val_acc: 0.5619\n",
      "Epoch 52/100\n",
      "40000/40000 [==============================] - 22s 548us/step - loss: 0.1980 - acc: 0.9540 - val_loss: 2.8668 - val_acc: 0.5678\n",
      "Epoch 53/100\n",
      "40000/40000 [==============================] - 23s 567us/step - loss: 0.1922 - acc: 0.9553 - val_loss: 2.9023 - val_acc: 0.5643\n",
      "Epoch 54/100\n",
      "40000/40000 [==============================] - 23s 571us/step - loss: 0.1839 - acc: 0.9591 - val_loss: 2.9373 - val_acc: 0.5635\n",
      "Epoch 55/100\n",
      "40000/40000 [==============================] - 23s 571us/step - loss: 0.1785 - acc: 0.9600 - val_loss: 2.9897 - val_acc: 0.5633\n",
      "Epoch 56/100\n",
      "40000/40000 [==============================] - 22s 555us/step - loss: 0.1713 - acc: 0.9631 - val_loss: 3.0144 - val_acc: 0.5594\n",
      "Epoch 57/100\n",
      "40000/40000 [==============================] - 22s 541us/step - loss: 0.1641 - acc: 0.9647 - val_loss: 3.0706 - val_acc: 0.5578\n",
      "Epoch 58/100\n",
      "40000/40000 [==============================] - 21s 537us/step - loss: 0.1588 - acc: 0.9669 - val_loss: 3.1030 - val_acc: 0.5574\n"
     ]
    },
    {
     "name": "stdout",
     "output_type": "stream",
     "text": [
      "Epoch 59/100\n",
      "40000/40000 [==============================] - 21s 521us/step - loss: 0.1527 - acc: 0.9685 - val_loss: 3.1276 - val_acc: 0.5604\n",
      "Epoch 60/100\n",
      "40000/40000 [==============================] - 21s 526us/step - loss: 0.1487 - acc: 0.9694 - val_loss: 3.1645 - val_acc: 0.5632\n",
      "Epoch 61/100\n",
      "40000/40000 [==============================] - 22s 542us/step - loss: 0.1431 - acc: 0.9713 - val_loss: 3.2080 - val_acc: 0.5612\n",
      "Epoch 62/100\n",
      "40000/40000 [==============================] - 22s 550us/step - loss: 0.1374 - acc: 0.9732 - val_loss: 3.2256 - val_acc: 0.5584\n",
      "Epoch 63/100\n",
      "40000/40000 [==============================] - 21s 533us/step - loss: 0.1329 - acc: 0.9749 - val_loss: 3.2858 - val_acc: 0.5582\n",
      "Epoch 64/100\n",
      "40000/40000 [==============================] - 21s 523us/step - loss: 0.1273 - acc: 0.9760 - val_loss: 3.3006 - val_acc: 0.5595\n",
      "Epoch 65/100\n",
      "40000/40000 [==============================] - 21s 520us/step - loss: 0.1236 - acc: 0.9781 - val_loss: 3.3378 - val_acc: 0.5566\n",
      "Epoch 66/100\n",
      "40000/40000 [==============================] - 22s 543us/step - loss: 0.1192 - acc: 0.9785 - val_loss: 3.3419 - val_acc: 0.5638\n",
      "Epoch 67/100\n",
      "40000/40000 [==============================] - 21s 537us/step - loss: 0.1150 - acc: 0.9797 - val_loss: 3.3873 - val_acc: 0.5564\n",
      "Epoch 68/100\n",
      "40000/40000 [==============================] - 21s 529us/step - loss: 0.1116 - acc: 0.9807 - val_loss: 3.4222 - val_acc: 0.5585\n",
      "Epoch 69/100\n",
      "40000/40000 [==============================] - 21s 535us/step - loss: 0.1081 - acc: 0.9815 - val_loss: 3.4649 - val_acc: 0.5572\n",
      "Epoch 70/100\n",
      "40000/40000 [==============================] - 22s 546us/step - loss: 0.1040 - acc: 0.9829 - val_loss: 3.4995 - val_acc: 0.5598\n",
      "Epoch 71/100\n",
      "40000/40000 [==============================] - 21s 531us/step - loss: 0.1010 - acc: 0.9841 - val_loss: 3.5282 - val_acc: 0.5583\n",
      "Epoch 72/100\n",
      "40000/40000 [==============================] - 21s 533us/step - loss: 0.0976 - acc: 0.9853 - val_loss: 3.5567 - val_acc: 0.5586\n",
      "Epoch 73/100\n",
      "40000/40000 [==============================] - 21s 525us/step - loss: 0.0945 - acc: 0.9857 - val_loss: 3.6058 - val_acc: 0.5578\n",
      "Epoch 74/100\n",
      "40000/40000 [==============================] - 21s 527us/step - loss: 0.0918 - acc: 0.9863 - val_loss: 3.6049 - val_acc: 0.5633\n",
      "Epoch 75/100\n",
      "40000/40000 [==============================] - 22s 540us/step - loss: 0.0888 - acc: 0.9877 - val_loss: 3.6556 - val_acc: 0.5582\n",
      "Epoch 76/100\n",
      "40000/40000 [==============================] - 22s 538us/step - loss: 0.0859 - acc: 0.9877 - val_loss: 3.6716 - val_acc: 0.5566acc: 0\n",
      "Epoch 77/100\n",
      "40000/40000 [==============================] - 21s 529us/step - loss: 0.0832 - acc: 0.9886 - val_loss: 3.7263 - val_acc: 0.5559\n",
      "Epoch 78/100\n",
      "40000/40000 [==============================] - 21s 534us/step - loss: 0.0807 - acc: 0.9896 - val_loss: 3.7480 - val_acc: 0.5596\n",
      "Epoch 79/100\n",
      "40000/40000 [==============================] - 21s 531us/step - loss: 0.0783 - acc: 0.9901 - val_loss: 3.7714 - val_acc: 0.5558\n",
      "Epoch 80/100\n",
      "40000/40000 [==============================] - 21s 531us/step - loss: 0.0765 - acc: 0.9907 - val_loss: 3.8076 - val_acc: 0.5570\n",
      "Epoch 81/100\n",
      "40000/40000 [==============================] - 22s 541us/step - loss: 0.0745 - acc: 0.9910 - val_loss: 3.8423 - val_acc: 0.5578\n",
      "Epoch 82/100\n",
      "40000/40000 [==============================] - 21s 535us/step - loss: 0.0727 - acc: 0.9914 - val_loss: 3.8647 - val_acc: 0.5552\n",
      "Epoch 83/100\n",
      "40000/40000 [==============================] - 23s 564us/step - loss: 0.0705 - acc: 0.9921 - val_loss: 3.8784 - val_acc: 0.5584\n",
      "Epoch 84/100\n",
      "40000/40000 [==============================] - 22s 560us/step - loss: 0.0690 - acc: 0.9925 - val_loss: 3.9259 - val_acc: 0.5581\n",
      "Epoch 85/100\n",
      "40000/40000 [==============================] - 21s 527us/step - loss: 0.0674 - acc: 0.9924 - val_loss: 3.9415 - val_acc: 0.5603\n",
      "Epoch 86/100\n",
      "40000/40000 [==============================] - 22s 555us/step - loss: 0.0659 - acc: 0.9929 - val_loss: 3.9830 - val_acc: 0.5546\n",
      "Epoch 87/100\n",
      "40000/40000 [==============================] - 21s 537us/step - loss: 0.0651 - acc: 0.9930 - val_loss: 3.9945 - val_acc: 0.5607\n",
      "Epoch 88/100\n",
      "40000/40000 [==============================] - 22s 547us/step - loss: 0.0628 - acc: 0.9939 - val_loss: 4.0535 - val_acc: 0.5565\n",
      "Epoch 89/100\n",
      "40000/40000 [==============================] - 22s 539us/step - loss: 0.0617 - acc: 0.9937 - val_loss: 4.0523 - val_acc: 0.5588\n",
      "Epoch 90/100\n",
      "40000/40000 [==============================] - 21s 527us/step - loss: 0.0605 - acc: 0.9945 - val_loss: 4.0752 - val_acc: 0.5583\n",
      "Epoch 91/100\n",
      "40000/40000 [==============================] - 22s 548us/step - loss: 0.0589 - acc: 0.9947 - val_loss: 4.1044 - val_acc: 0.5560\n",
      "Epoch 92/100\n",
      "40000/40000 [==============================] - 22s 538us/step - loss: 0.0579 - acc: 0.9951 - val_loss: 4.1478 - val_acc: 0.5549\n",
      "Epoch 93/100\n",
      "40000/40000 [==============================] - 21s 533us/step - loss: 0.0574 - acc: 0.9945 - val_loss: 4.1317 - val_acc: 0.5629\n",
      "Epoch 94/100\n",
      "40000/40000 [==============================] - 22s 550us/step - loss: 0.0562 - acc: 0.9950 - val_loss: 4.1714 - val_acc: 0.5603\n",
      "Epoch 95/100\n",
      "40000/40000 [==============================] - 22s 542us/step - loss: 0.0555 - acc: 0.9951 - val_loss: 4.2028 - val_acc: 0.5625\n",
      "Epoch 96/100\n",
      "40000/40000 [==============================] - 23s 570us/step - loss: 0.0546 - acc: 0.9956 - val_loss: 4.2260 - val_acc: 0.5592\n",
      "Epoch 97/100\n",
      "40000/40000 [==============================] - 22s 539us/step - loss: 0.0538 - acc: 0.9956 - val_loss: 4.2602 - val_acc: 0.5589\n",
      "Epoch 98/100\n",
      "40000/40000 [==============================] - 22s 554us/step - loss: 0.0530 - acc: 0.9957 - val_loss: 4.2602 - val_acc: 0.5597\n",
      "Epoch 99/100\n",
      "40000/40000 [==============================] - 21s 537us/step - loss: 0.0523 - acc: 0.9960 - val_loss: 4.2909 - val_acc: 0.5592\n",
      "Epoch 100/100\n",
      "40000/40000 [==============================] - 22s 553us/step - loss: 0.0519 - acc: 0.9960 - val_loss: 4.3312 - val_acc: 0.5592\n"
     ]
    }
   ],
   "source": [
    "model = models.Sequential()\n",
    "model.add(conv_base)\n",
    "model.add(layers.Flatten())\n",
    "model.add(layers.Dense(256, activation='relu'))\n",
    "model.add(layers.Dense(10, activation='softmax'))\n",
    "\n",
    "model.compile(loss='categorical_crossentropy', \n",
    "              optimizer=optimizers.RMSprop(lr=1e-4),\n",
    "              metrics=['acc'])\n",
    "\n",
    "history = model.fit(x_train, y_train,\n",
    "                    batch_size=32,\n",
    "                    epochs=100,\n",
    "                    validation_data=(x_validation, y_validation))"
   ]
  },
  {
   "cell_type": "code",
   "execution_count": 52,
   "metadata": {},
   "outputs": [
    {
     "data": {
      "image/png": "[encoded data removed]",
      "text/plain": [
       "<Figure size 432x288 with 1 Axes>"
      ]
     },
     "metadata": {
      "needs_background": "light"
     },
     "output_type": "display_data"
    },
    {
     "data": {
      "image/png": "[encoded data removed]",
      "text/plain": [
       "<Figure size 432x288 with 1 Axes>"
      ]
     },
     "metadata": {
      "needs_background": "light"
     },
     "output_type": "display_data"
    }
   ],
   "source": [
    "acc = history.history['acc']\n",
    "val_acc = history.history['val_acc']\n",
    "loss = history.history['loss']\n",
    "val_loss = history.history['val_loss']\n",
    "\n",
    "epochs = range(1, len(acc) + 1)\n",
    "\n",
    "plt.plot(epochs, acc, 'bo', label='Training acc')\n",
    "plt.plot(epochs, val_acc, 'b', label='Validation acc')\n",
    "plt.title('Training and validation accuracy')\n",
    "plt.legend()\n",
    "\n",
    "plt.figure()\n",
    "\n",
    "plt.plot(epochs, loss, 'bo', label='Training loss')\n",
    "plt.plot(epochs, val_loss, 'b', label='Validation loss')\n",
    "plt.title('Training and validation loss')\n",
    "plt.legend()\n",
    "\n",
    "plt.show()"
   ]
  },
  {
   "cell_type": "markdown",
   "metadata": {},
   "source": [
    "## Fourth Model\n",
    "\n",
    "Using a pretrained model with data augmentation"
   ]
  },
  {
   "cell_type": "code",
   "execution_count": 83,
   "metadata": {},
   "outputs": [
    {
     "name": "stdout",
     "output_type": "stream",
     "text": [
      "Epoch 1/100\n",
      "1000/1000 [==============================] - 22s 22ms/step - loss: 7.2769 - acc: 0.3109 - val_loss: 5.1555 - val_acc: 0.3967\n",
      "Epoch 2/100\n",
      "1000/1000 [==============================] - 21s 21ms/step - loss: 4.6731 - acc: 0.3893 - val_loss: 3.8029 - val_acc: 0.4278\n",
      "Epoch 3/100\n",
      "1000/1000 [==============================] - 21s 21ms/step - loss: 3.6320 - acc: 0.4057 - val_loss: 3.1291 - val_acc: 0.4437\n",
      "Epoch 4/100\n",
      "1000/1000 [==============================] - 21s 21ms/step - loss: 2.9912 - acc: 0.4151 - val_loss: 2.6399 - val_acc: 0.4556\n",
      "Epoch 5/100\n",
      "1000/1000 [==============================] - 21s 21ms/step - loss: 2.5658 - acc: 0.4215 - val_loss: 2.3160 - val_acc: 0.4601\n",
      "Epoch 6/100\n",
      "1000/1000 [==============================] - 21s 21ms/step - loss: 2.2606 - acc: 0.4341 - val_loss: 2.0712 - val_acc: 0.4701\n",
      "Epoch 7/100\n",
      "1000/1000 [==============================] - 21s 21ms/step - loss: 2.0285 - acc: 0.4483 - val_loss: 1.8733 - val_acc: 0.4883\n",
      "Epoch 8/100\n",
      "1000/1000 [==============================] - 21s 21ms/step - loss: 1.8687 - acc: 0.4595 - val_loss: 1.7343 - val_acc: 0.5056\n",
      "Epoch 9/100\n",
      "1000/1000 [==============================] - 23s 23ms/step - loss: 1.7368 - acc: 0.4739 - val_loss: 1.6874 - val_acc: 0.5066\n",
      "Epoch 10/100\n",
      "1000/1000 [==============================] - 21s 21ms/step - loss: 1.6558 - acc: 0.4821 - val_loss: 1.5844 - val_acc: 0.5178\n",
      "Epoch 11/100\n",
      "1000/1000 [==============================] - 21s 21ms/step - loss: 1.6028 - acc: 0.4908 - val_loss: 1.5892 - val_acc: 0.5284\n",
      "Epoch 12/100\n",
      "1000/1000 [==============================] - 21s 21ms/step - loss: 1.5666 - acc: 0.4964 - val_loss: 1.5511 - val_acc: 0.5257\n",
      "Epoch 13/100\n",
      "1000/1000 [==============================] - 22s 22ms/step - loss: 1.5307 - acc: 0.5006 - val_loss: 1.5076 - val_acc: 0.5333\n",
      "Epoch 14/100\n",
      "1000/1000 [==============================] - 22s 22ms/step - loss: 1.5048 - acc: 0.5064 - val_loss: 1.4918 - val_acc: 0.5403\n",
      "Epoch 15/100\n",
      "1000/1000 [==============================] - 21s 21ms/step - loss: 1.4909 - acc: 0.5130 - val_loss: 1.4989 - val_acc: 0.5355\n",
      "Epoch 16/100\n",
      "1000/1000 [==============================] - 21s 21ms/step - loss: 1.4661 - acc: 0.5175 - val_loss: 1.4721 - val_acc: 0.5440\n",
      "Epoch 17/100\n",
      "1000/1000 [==============================] - 21s 21ms/step - loss: 1.4660 - acc: 0.5188 - val_loss: 1.4571 - val_acc: 0.5477\n",
      "Epoch 18/100\n",
      "1000/1000 [==============================] - 21s 21ms/step - loss: 1.4470 - acc: 0.5191 - val_loss: 1.4566 - val_acc: 0.5480\n",
      "Epoch 19/100\n",
      "1000/1000 [==============================] - 22s 22ms/step - loss: 1.4349 - acc: 0.5237 - val_loss: 1.4573 - val_acc: 0.5531\n",
      "Epoch 20/100\n",
      "1000/1000 [==============================] - 21s 21ms/step - loss: 1.4369 - acc: 0.5219 - val_loss: 1.4572 - val_acc: 0.5555\n",
      "Epoch 21/100\n",
      "1000/1000 [==============================] - 21s 21ms/step - loss: 1.4238 - acc: 0.5283 - val_loss: 1.4630 - val_acc: 0.5556\n",
      "Epoch 22/100\n",
      "1000/1000 [==============================] - 23s 23ms/step - loss: 1.4211 - acc: 0.5268 - val_loss: 1.4710 - val_acc: 0.5564\n",
      "Epoch 23/100\n",
      "1000/1000 [==============================] - 21s 21ms/step - loss: 1.4186 - acc: 0.5303 - val_loss: 1.4366 - val_acc: 0.5642\n",
      "Epoch 24/100\n",
      "1000/1000 [==============================] - 21s 21ms/step - loss: 1.4131 - acc: 0.5292 - val_loss: 1.4491 - val_acc: 0.5620\n",
      "Epoch 25/100\n",
      "1000/1000 [==============================] - 21s 21ms/step - loss: 1.3945 - acc: 0.5358 - val_loss: 1.4428 - val_acc: 0.5637\n",
      "Epoch 26/100\n",
      "1000/1000 [==============================] - 21s 21ms/step - loss: 1.4086 - acc: 0.5353 - val_loss: 1.4386 - val_acc: 0.5634\n",
      "Epoch 27/100\n",
      "1000/1000 [==============================] - 21s 21ms/step - loss: 1.4050 - acc: 0.5366 - val_loss: 1.4281 - val_acc: 0.5687\n",
      "Epoch 28/100\n",
      "1000/1000 [==============================] - 21s 21ms/step - loss: 1.3861 - acc: 0.5400 - val_loss: 1.4691 - val_acc: 0.5579\n",
      "Epoch 29/100\n",
      "1000/1000 [==============================] - 21s 21ms/step - loss: 1.3873 - acc: 0.5389 - val_loss: 1.4247 - val_acc: 0.5686\n",
      "Epoch 30/100\n",
      "1000/1000 [==============================] - 22s 22ms/step - loss: 1.3840 - acc: 0.5428 - val_loss: 1.4272 - val_acc: 0.5638\n",
      "Epoch 31/100\n",
      "1000/1000 [==============================] - 22s 22ms/step - loss: 1.3878 - acc: 0.5409 - val_loss: 1.4269 - val_acc: 0.5688\n",
      "Epoch 32/100\n",
      "1000/1000 [==============================] - 21s 21ms/step - loss: 1.3867 - acc: 0.5395 - val_loss: 1.4400 - val_acc: 0.5627\n",
      "Epoch 33/100\n",
      "1000/1000 [==============================] - 22s 22ms/step - loss: 1.3757 - acc: 0.5406 - val_loss: 1.4552 - val_acc: 0.5589\n",
      "Epoch 34/100\n",
      "1000/1000 [==============================] - 21s 21ms/step - loss: 1.3760 - acc: 0.5456 - val_loss: 1.4507 - val_acc: 0.5626\n",
      "Epoch 35/100\n",
      "1000/1000 [==============================] - 21s 21ms/step - loss: 1.3701 - acc: 0.5487 - val_loss: 1.4316 - val_acc: 0.5660\n",
      "Epoch 36/100\n",
      "1000/1000 [==============================] - 21s 21ms/step - loss: 1.3741 - acc: 0.5477 - val_loss: 1.4339 - val_acc: 0.5689\n",
      "Epoch 37/100\n",
      "1000/1000 [==============================] - 23s 23ms/step - loss: 1.3665 - acc: 0.5475 - val_loss: 1.4387 - val_acc: 0.5663\n",
      "Epoch 38/100\n",
      "1000/1000 [==============================] - 22s 22ms/step - loss: 1.3696 - acc: 0.5484 - val_loss: 1.4438 - val_acc: 0.5683\n",
      "Epoch 39/100\n",
      "1000/1000 [==============================] - 22s 22ms/step - loss: 1.3726 - acc: 0.5503 - val_loss: 1.4267 - val_acc: 0.5701\n",
      "Epoch 40/100\n",
      "1000/1000 [==============================] - 23s 23ms/step - loss: 1.3486 - acc: 0.5522 - val_loss: 1.4525 - val_acc: 0.5691\n",
      "Epoch 41/100\n",
      "1000/1000 [==============================] - 23s 23ms/step - loss: 1.3627 - acc: 0.5467 - val_loss: 1.4303 - val_acc: 0.5702\n",
      "Epoch 42/100\n",
      "1000/1000 [==============================] - 23s 23ms/step - loss: 1.3469 - acc: 0.5547 - val_loss: 1.4554 - val_acc: 0.5664\n",
      "Epoch 43/100\n",
      "1000/1000 [==============================] - 22s 22ms/step - loss: 1.3577 - acc: 0.5481 - val_loss: 1.4061 - val_acc: 0.5763\n",
      "Epoch 44/100\n",
      "1000/1000 [==============================] - 22s 22ms/step - loss: 1.3570 - acc: 0.5500 - val_loss: 1.4221 - val_acc: 0.5748\n",
      "Epoch 45/100\n",
      "1000/1000 [==============================] - 23s 23ms/step - loss: 1.3642 - acc: 0.5481 - val_loss: 1.4050 - val_acc: 0.5788\n",
      "Epoch 46/100\n",
      "1000/1000 [==============================] - 22s 22ms/step - loss: 1.3467 - acc: 0.5546 - val_loss: 1.4298 - val_acc: 0.5708\n",
      "Epoch 47/100\n",
      "1000/1000 [==============================] - 23s 23ms/step - loss: 1.3461 - acc: 0.5517 - val_loss: 1.4448 - val_acc: 0.5717\n",
      "Epoch 48/100\n",
      "1000/1000 [==============================] - 23s 23ms/step - loss: 1.3357 - acc: 0.5601 - val_loss: 1.4152 - val_acc: 0.5746\n",
      "Epoch 49/100\n",
      "1000/1000 [==============================] - 22s 22ms/step - loss: 1.3541 - acc: 0.5535 - val_loss: 1.4248 - val_acc: 0.5742\n",
      "Epoch 50/100\n",
      "1000/1000 [==============================] - 23s 23ms/step - loss: 1.3407 - acc: 0.5554 - val_loss: 1.4277 - val_acc: 0.5730\n",
      "Epoch 51/100\n",
      "1000/1000 [==============================] - 23s 23ms/step - loss: 1.3426 - acc: 0.5572 - val_loss: 1.4197 - val_acc: 0.5708\n",
      "Epoch 52/100\n",
      "1000/1000 [==============================] - 22s 22ms/step - loss: 1.3364 - acc: 0.5555 - val_loss: 1.4428 - val_acc: 0.5750\n",
      "Epoch 53/100\n",
      "1000/1000 [==============================] - 23s 23ms/step - loss: 1.3455 - acc: 0.5574 - val_loss: 1.4514 - val_acc: 0.5685\n",
      "Epoch 54/100\n",
      "1000/1000 [==============================] - 22s 22ms/step - loss: 1.3379 - acc: 0.5644 - val_loss: 1.4705 - val_acc: 0.5713\n",
      "Epoch 55/100\n",
      "1000/1000 [==============================] - 22s 22ms/step - loss: 1.3364 - acc: 0.5574 - val_loss: 1.4540 - val_acc: 0.5750\n",
      "Epoch 56/100\n",
      "1000/1000 [==============================] - 22s 22ms/step - loss: 1.3398 - acc: 0.5584 - val_loss: 1.4445 - val_acc: 0.5754\n",
      "Epoch 57/100\n",
      "1000/1000 [==============================] - 23s 23ms/step - loss: 1.3357 - acc: 0.5613 - val_loss: 1.4467 - val_acc: 0.5755\n",
      "Epoch 58/100\n",
      "1000/1000 [==============================] - 23s 23ms/step - loss: 1.3404 - acc: 0.5580 - val_loss: 1.4241 - val_acc: 0.5776\n",
      "Epoch 59/100\n",
      "1000/1000 [==============================] - 23s 23ms/step - loss: 1.3381 - acc: 0.5568 - val_loss: 1.4685 - val_acc: 0.5676\n",
      "Epoch 60/100\n"
     ]
    },
    {
     "name": "stdout",
     "output_type": "stream",
     "text": [
      "1000/1000 [==============================] - 22s 22ms/step - loss: 1.3364 - acc: 0.5580 - val_loss: 1.4510 - val_acc: 0.5746\n",
      "Epoch 61/100\n",
      "1000/1000 [==============================] - 22s 22ms/step - loss: 1.3310 - acc: 0.5618 - val_loss: 1.4283 - val_acc: 0.5810\n",
      "Epoch 62/100\n",
      "1000/1000 [==============================] - 22s 22ms/step - loss: 1.3382 - acc: 0.5610 - val_loss: 1.4280 - val_acc: 0.5818\n",
      "Epoch 63/100\n",
      "1000/1000 [==============================] - 23s 23ms/step - loss: 1.3245 - acc: 0.5629 - val_loss: 1.4305 - val_acc: 0.5853\n",
      "Epoch 64/100\n",
      "1000/1000 [==============================] - 23s 23ms/step - loss: 1.3330 - acc: 0.5628 - val_loss: 1.4787 - val_acc: 0.5734\n",
      "Epoch 65/100\n",
      "1000/1000 [==============================] - 23s 23ms/step - loss: 1.3328 - acc: 0.5618 - val_loss: 1.4673 - val_acc: 0.5728\n",
      "Epoch 66/100\n",
      "1000/1000 [==============================] - 22s 22ms/step - loss: 1.3300 - acc: 0.5646 - val_loss: 1.4593 - val_acc: 0.5779\n",
      "Epoch 67/100\n",
      "1000/1000 [==============================] - 24s 24ms/step - loss: 1.3292 - acc: 0.5603 - val_loss: 1.4627 - val_acc: 0.5732\n",
      "Epoch 68/100\n",
      "1000/1000 [==============================] - 23s 23ms/step - loss: 1.3293 - acc: 0.5653 - val_loss: 1.4546 - val_acc: 0.5737\n",
      "Epoch 69/100\n",
      "1000/1000 [==============================] - 22s 22ms/step - loss: 1.3288 - acc: 0.5612 - val_loss: 1.4521 - val_acc: 0.5804\n",
      "Epoch 70/100\n",
      "1000/1000 [==============================] - 21s 21ms/step - loss: 1.3279 - acc: 0.5656 - val_loss: 1.4927 - val_acc: 0.5746\n",
      "Epoch 71/100\n",
      "1000/1000 [==============================] - 21s 21ms/step - loss: 1.3325 - acc: 0.5636 - val_loss: 1.4748 - val_acc: 0.5765\n",
      "Epoch 72/100\n",
      "1000/1000 [==============================] - 21s 21ms/step - loss: 1.3345 - acc: 0.5640 - val_loss: 1.4583 - val_acc: 0.5766\n",
      "Epoch 73/100\n",
      "1000/1000 [==============================] - 21s 21ms/step - loss: 1.3215 - acc: 0.5657 - val_loss: 1.4693 - val_acc: 0.5803\n",
      "Epoch 74/100\n",
      "1000/1000 [==============================] - 21s 21ms/step - loss: 1.3275 - acc: 0.5643 - val_loss: 1.4642 - val_acc: 0.5745\n",
      "Epoch 75/100\n",
      "1000/1000 [==============================] - 21s 21ms/step - loss: 1.3384 - acc: 0.5605 - val_loss: 1.4569 - val_acc: 0.5787\n",
      "Epoch 76/100\n",
      "1000/1000 [==============================] - 23s 23ms/step - loss: 1.3202 - acc: 0.5679 - val_loss: 1.4801 - val_acc: 0.5730\n",
      "Epoch 77/100\n",
      "1000/1000 [==============================] - 23s 23ms/step - loss: 1.3281 - acc: 0.5646 - val_loss: 1.4648 - val_acc: 0.5784\n",
      "Epoch 78/100\n",
      "1000/1000 [==============================] - 23s 23ms/step - loss: 1.3226 - acc: 0.5664 - val_loss: 1.4611 - val_acc: 0.5781\n",
      "Epoch 79/100\n",
      "1000/1000 [==============================] - 21s 21ms/step - loss: 1.3235 - acc: 0.5658 - val_loss: 1.4607 - val_acc: 0.5816\n",
      "Epoch 80/100\n",
      "1000/1000 [==============================] - 21s 21ms/step - loss: 1.3214 - acc: 0.5670 - val_loss: 1.4355 - val_acc: 0.5850\n",
      "Epoch 81/100\n",
      "1000/1000 [==============================] - 22s 22ms/step - loss: 1.3181 - acc: 0.5679 - val_loss: 1.4879 - val_acc: 0.5773\n",
      "Epoch 82/100\n",
      "1000/1000 [==============================] - 22s 22ms/step - loss: 1.3234 - acc: 0.5682 - val_loss: 1.4566 - val_acc: 0.5820\n",
      "Epoch 83/100\n",
      "1000/1000 [==============================] - 21s 21ms/step - loss: 1.3263 - acc: 0.5649 - val_loss: 1.4861 - val_acc: 0.5740\n",
      "Epoch 84/100\n",
      "1000/1000 [==============================] - 22s 22ms/step - loss: 1.3306 - acc: 0.5666 - val_loss: 1.4672 - val_acc: 0.5749\n",
      "Epoch 85/100\n",
      "1000/1000 [==============================] - 22s 22ms/step - loss: 1.3221 - acc: 0.5681 - val_loss: 1.4294 - val_acc: 0.5915\n",
      "Epoch 86/100\n",
      "1000/1000 [==============================] - 22s 22ms/step - loss: 1.3188 - acc: 0.5682 - val_loss: 1.4641 - val_acc: 0.5827\n",
      "Epoch 87/100\n",
      "1000/1000 [==============================] - 21s 21ms/step - loss: 1.3174 - acc: 0.5702 - val_loss: 1.4726 - val_acc: 0.5869\n",
      "Epoch 88/100\n",
      "1000/1000 [==============================] - 22s 22ms/step - loss: 1.3258 - acc: 0.5691 - val_loss: 1.4499 - val_acc: 0.5795\n",
      "Epoch 89/100\n",
      "1000/1000 [==============================] - 21s 21ms/step - loss: 1.3205 - acc: 0.5705 - val_loss: 1.4513 - val_acc: 0.5833\n",
      "Epoch 90/100\n",
      "1000/1000 [==============================] - 21s 21ms/step - loss: 1.3198 - acc: 0.5687 - val_loss: 1.4747 - val_acc: 0.5803\n",
      "Epoch 91/100\n",
      "1000/1000 [==============================] - 22s 22ms/step - loss: 1.3181 - acc: 0.5671 - val_loss: 1.4711 - val_acc: 0.5827\n",
      "Epoch 92/100\n",
      "1000/1000 [==============================] - 21s 21ms/step - loss: 1.3238 - acc: 0.5693 - val_loss: 1.5179 - val_acc: 0.5749\n",
      "Epoch 93/100\n",
      "1000/1000 [==============================] - 22s 22ms/step - loss: 1.3198 - acc: 0.5695 - val_loss: 1.4781 - val_acc: 0.5762\n",
      "Epoch 94/100\n",
      "1000/1000 [==============================] - 21s 21ms/step - loss: 1.3167 - acc: 0.5726 - val_loss: 1.4704 - val_acc: 0.5797\n",
      "Epoch 95/100\n",
      "1000/1000 [==============================] - 22s 22ms/step - loss: 1.3193 - acc: 0.5711 - val_loss: 1.4836 - val_acc: 0.5811\n",
      "Epoch 96/100\n",
      "1000/1000 [==============================] - 21s 21ms/step - loss: 1.3236 - acc: 0.5716 - val_loss: 1.4889 - val_acc: 0.5796\n",
      "Epoch 97/100\n",
      "1000/1000 [==============================] - 21s 21ms/step - loss: 1.3265 - acc: 0.5683 - val_loss: 1.4629 - val_acc: 0.5875\n",
      "Epoch 98/100\n",
      "1000/1000 [==============================] - 21s 21ms/step - loss: 1.3169 - acc: 0.5705 - val_loss: 1.4724 - val_acc: 0.5859\n",
      "Epoch 99/100\n",
      "1000/1000 [==============================] - 21s 21ms/step - loss: 1.3264 - acc: 0.5696 - val_loss: 1.4845 - val_acc: 0.5809\n",
      "Epoch 100/100\n",
      "1000/1000 [==============================] - 21s 21ms/step - loss: 1.3163 - acc: 0.5708 - val_loss: 1.4738 - val_acc: 0.5835\n"
     ]
    }
   ],
   "source": [
    "model_4 = models.Sequential()\n",
    "model_4.add(conv_base)\n",
    "model_4.add(layers.Flatten())\n",
    "model_4.add(layers.Dense(256, activation='relu'))\n",
    "model_4.add(layers.Dense(10, activation='softmax'))\n",
    "\n",
    "model_4.compile(loss='categorical_crossentropy', \n",
    "              optimizer=optimizers.RMSprop(lr=1e-4),\n",
    "              metrics=['acc'])\n",
    "\n",
    "history = model_4.fit_generator(datagen.flow(x_train, y_train,\n",
    "                                           batch_size=40),\n",
    "                              steps_per_epoch=1000,\n",
    "                              epochs=100,\n",
    "                              validation_data=(x_validation, y_validation),\n",
    "                              workers=4)"
   ]
  },
  {
   "cell_type": "code",
   "execution_count": 85,
   "metadata": {},
   "outputs": [
    {
     "data": {
      "image/png": "[encoded data removed]",
      "text/plain": [
       "<Figure size 432x288 with 1 Axes>"
      ]
     },
     "metadata": {
      "needs_background": "light"
     },
     "output_type": "display_data"
    },
    {
     "data": {
      "image/png": "[encoded data removed]",
      "text/plain": [
       "<Figure size 432x288 with 1 Axes>"
      ]
     },
     "metadata": {
      "needs_background": "light"
     },
     "output_type": "display_data"
    }
   ],
   "source": [
    "acc = history.history['acc']\n",
    "val_acc = history.history['val_acc']\n",
    "loss = history.history['loss']\n",
    "val_loss = history.history['val_loss']\n",
    "\n",
    "epochs = range(1, len(acc) + 1)\n",
    "\n",
    "plt.plot(epochs, acc, 'bo', label='Training loss')\n",
    "plt.plot(epochs, val_acc, 'b', label='Validation acc')\n",
    "plt.title('Training and validation accuracy')\n",
    "plt.legend()\n",
    "\n",
    "plt.figure()\n",
    "\n",
    "plt.plot(epochs, loss, 'bo', label='Training loss')\n",
    "plt.plot(epochs, val_loss, 'b', label='Validation loss')\n",
    "plt.title('Training and validation loss')\n",
    "plt.legend()\n",
    "\n",
    "plt.show()"
   ]
  },
  {
   "cell_type": "markdown",
   "metadata": {},
   "source": [
    "## Fifth Model\n",
    "\n",
    "Fine-tuning the fourth model by unfreezing its last few layers"
   ]
  },
  {
   "cell_type": "code",
   "execution_count": 86,
   "metadata": {},
   "outputs": [],
   "source": [
    "# freezing all layers up to block5_conv1\n",
    "conv_base.trainable = True\n",
    "\n",
    "set_trainable = False\n",
    "for layer in conv_base.layers:\n",
    "    if layer.name == 'block5_conv1':\n",
    "        set_trainable = True\n",
    "    if set_trainable:\n",
    "        layer.trainable = True\n",
    "    else:\n",
    "        layer.trainable = False"
   ]
  },
  {
   "cell_type": "code",
   "execution_count": 88,
   "metadata": {},
   "outputs": [
    {
     "name": "stdout",
     "output_type": "stream",
     "text": [
      "Epoch 1/100\n",
      "1000/1000 [==============================] - 28s 28ms/step - loss: 0.1925 - acc: 0.9265 - val_loss: 0.1936 - val_acc: 0.9303\n",
      "Epoch 2/100\n",
      "1000/1000 [==============================] - 26s 26ms/step - loss: 0.1827 - acc: 0.9296 - val_loss: 0.1868 - val_acc: 0.9329\n",
      "Epoch 3/100\n",
      "1000/1000 [==============================] - 28s 28ms/step - loss: 0.1768 - acc: 0.9316 - val_loss: 0.1813 - val_acc: 0.9345\n",
      "Epoch 4/100\n",
      "1000/1000 [==============================] - 27s 27ms/step - loss: 0.1716 - acc: 0.9340 - val_loss: 0.1813 - val_acc: 0.9362\n",
      "Epoch 5/100\n",
      "1000/1000 [==============================] - 28s 28ms/step - loss: 0.1684 - acc: 0.9350 - val_loss: 0.1742 - val_acc: 0.9376\n",
      "Epoch 6/100\n",
      "1000/1000 [==============================] - 27s 27ms/step - loss: 0.1653 - acc: 0.9358 - val_loss: 0.1652 - val_acc: 0.9399\n",
      "Epoch 7/100\n",
      "1000/1000 [==============================] - 28s 28ms/step - loss: 0.1625 - acc: 0.9368 - val_loss: 0.1639 - val_acc: 0.9422\n",
      "Epoch 8/100\n",
      "1000/1000 [==============================] - 28s 28ms/step - loss: 0.1600 - acc: 0.9382 - val_loss: 0.1680 - val_acc: 0.9415\n",
      "Epoch 9/100\n",
      "1000/1000 [==============================] - 28s 28ms/step - loss: 0.1582 - acc: 0.9387 - val_loss: 0.1585 - val_acc: 0.9446\n",
      "Epoch 10/100\n",
      "1000/1000 [==============================] - 28s 28ms/step - loss: 0.1550 - acc: 0.9396 - val_loss: 0.1615 - val_acc: 0.9419\n",
      "Epoch 11/100\n",
      "1000/1000 [==============================] - 28s 28ms/step - loss: 0.1549 - acc: 0.9397 - val_loss: 0.1678 - val_acc: 0.9434\n",
      "Epoch 12/100\n",
      "1000/1000 [==============================] - 28s 28ms/step - loss: 0.1525 - acc: 0.9408 - val_loss: 0.1616 - val_acc: 0.9428\n",
      "Epoch 13/100\n",
      "1000/1000 [==============================] - 28s 28ms/step - loss: 0.1509 - acc: 0.9411 - val_loss: 0.1664 - val_acc: 0.9437\n",
      "Epoch 14/100\n",
      "1000/1000 [==============================] - 29s 29ms/step - loss: 0.1499 - acc: 0.9414 - val_loss: 0.1546 - val_acc: 0.9452\n",
      "Epoch 15/100\n",
      "1000/1000 [==============================] - 29s 29ms/step - loss: 0.1485 - acc: 0.9422 - val_loss: 0.1570 - val_acc: 0.9455\n",
      "Epoch 16/100\n",
      "1000/1000 [==============================] - 28s 28ms/step - loss: 0.1476 - acc: 0.9428 - val_loss: 0.1510 - val_acc: 0.9480\n",
      "Epoch 17/100\n",
      "1000/1000 [==============================] - 27s 27ms/step - loss: 0.1475 - acc: 0.9430 - val_loss: 0.1623 - val_acc: 0.9429\n",
      "Epoch 18/100\n",
      "1000/1000 [==============================] - 28s 28ms/step - loss: 0.1460 - acc: 0.9435 - val_loss: 0.1601 - val_acc: 0.9447\n",
      "Epoch 19/100\n",
      "1000/1000 [==============================] - 28s 28ms/step - loss: 0.1451 - acc: 0.9443 - val_loss: 0.1519 - val_acc: 0.9457\n",
      "Epoch 20/100\n",
      "1000/1000 [==============================] - 28s 28ms/step - loss: 0.1438 - acc: 0.9444 - val_loss: 0.1486 - val_acc: 0.9482\n",
      "Epoch 21/100\n",
      "1000/1000 [==============================] - 29s 29ms/step - loss: 0.1423 - acc: 0.9451 - val_loss: 0.1467 - val_acc: 0.9483\n",
      "Epoch 22/100\n",
      "1000/1000 [==============================] - 29s 29ms/step - loss: 0.1435 - acc: 0.9442 - val_loss: 0.1521 - val_acc: 0.9484\n",
      "Epoch 23/100\n",
      "1000/1000 [==============================] - 28s 28ms/step - loss: 0.1422 - acc: 0.9453 - val_loss: 0.1450 - val_acc: 0.9499\n",
      "Epoch 24/100\n",
      "1000/1000 [==============================] - 28s 28ms/step - loss: 0.1417 - acc: 0.9453 - val_loss: 0.1515 - val_acc: 0.9495\n",
      "Epoch 25/100\n",
      "1000/1000 [==============================] - 29s 29ms/step - loss: 0.1405 - acc: 0.9457 - val_loss: 0.1451 - val_acc: 0.9491\n",
      "Epoch 26/100\n",
      "1000/1000 [==============================] - 29s 29ms/step - loss: 0.1409 - acc: 0.9455 - val_loss: 0.1452 - val_acc: 0.9496\n",
      "Epoch 27/100\n",
      "1000/1000 [==============================] - 28s 28ms/step - loss: 0.1394 - acc: 0.9460 - val_loss: 0.1646 - val_acc: 0.9461\n",
      "Epoch 28/100\n",
      "1000/1000 [==============================] - 28s 28ms/step - loss: 0.1393 - acc: 0.9466 - val_loss: 0.1470 - val_acc: 0.9485\n",
      "Epoch 29/100\n",
      "1000/1000 [==============================] - 28s 28ms/step - loss: 0.1383 - acc: 0.9468 - val_loss: 0.1539 - val_acc: 0.9481\n",
      "Epoch 30/100\n",
      "1000/1000 [==============================] - 29s 29ms/step - loss: 0.1385 - acc: 0.9469 - val_loss: 0.1473 - val_acc: 0.9508\n",
      "Epoch 31/100\n",
      "1000/1000 [==============================] - 29s 29ms/step - loss: 0.1386 - acc: 0.9469 - val_loss: 0.1603 - val_acc: 0.9479\n",
      "Epoch 32/100\n",
      "1000/1000 [==============================] - 28s 28ms/step - loss: 0.1381 - acc: 0.9470 - val_loss: 0.1552 - val_acc: 0.9468\n",
      "Epoch 33/100\n",
      "1000/1000 [==============================] - 29s 29ms/step - loss: 0.1370 - acc: 0.9475 - val_loss: 0.1573 - val_acc: 0.9497\n",
      "Epoch 34/100\n",
      "1000/1000 [==============================] - 28s 28ms/step - loss: 0.1373 - acc: 0.9479 - val_loss: 0.1515 - val_acc: 0.9486\n",
      "Epoch 35/100\n",
      "1000/1000 [==============================] - 29s 29ms/step - loss: 0.1370 - acc: 0.9473 - val_loss: 0.1466 - val_acc: 0.9499\n",
      "Epoch 36/100\n",
      "1000/1000 [==============================] - 29s 29ms/step - loss: 0.1360 - acc: 0.9481 - val_loss: 0.1454 - val_acc: 0.9510\n",
      "Epoch 37/100\n",
      "1000/1000 [==============================] - 29s 29ms/step - loss: 0.1354 - acc: 0.9480 - val_loss: 0.1526 - val_acc: 0.9504\n",
      "Epoch 38/100\n",
      "1000/1000 [==============================] - 28s 28ms/step - loss: 0.1355 - acc: 0.9481 - val_loss: 0.1535 - val_acc: 0.9503\n",
      "Epoch 39/100\n",
      "1000/1000 [==============================] - 30s 30ms/step - loss: 0.1339 - acc: 0.9484 - val_loss: 0.1543 - val_acc: 0.9493\n",
      "Epoch 40/100\n",
      "1000/1000 [==============================] - 29s 29ms/step - loss: 0.1359 - acc: 0.9482 - val_loss: 0.1431 - val_acc: 0.9506\n",
      "Epoch 41/100\n",
      "1000/1000 [==============================] - 28s 28ms/step - loss: 0.1337 - acc: 0.9486 - val_loss: 0.1522 - val_acc: 0.9503\n",
      "Epoch 42/100\n",
      "1000/1000 [==============================] - 28s 28ms/step - loss: 0.1342 - acc: 0.9485 - val_loss: 0.1495 - val_acc: 0.9502\n",
      "Epoch 43/100\n",
      "1000/1000 [==============================] - 29s 29ms/step - loss: 0.1339 - acc: 0.9484 - val_loss: 0.1487 - val_acc: 0.9503\n",
      "Epoch 44/100\n",
      "1000/1000 [==============================] - 27s 27ms/step - loss: 0.1327 - acc: 0.9491 - val_loss: 0.1535 - val_acc: 0.9506\n",
      "Epoch 45/100\n",
      "1000/1000 [==============================] - 28s 28ms/step - loss: 0.1327 - acc: 0.9491 - val_loss: 0.1457 - val_acc: 0.9515\n",
      "Epoch 46/100\n",
      "1000/1000 [==============================] - 28s 28ms/step - loss: 0.1327 - acc: 0.9491 - val_loss: 0.1558 - val_acc: 0.9516\n",
      "Epoch 47/100\n",
      "1000/1000 [==============================] - 28s 28ms/step - loss: 0.1319 - acc: 0.9495 - val_loss: 0.1489 - val_acc: 0.9513\n",
      "Epoch 48/100\n",
      "1000/1000 [==============================] - 27s 27ms/step - loss: 0.1308 - acc: 0.9497 - val_loss: 0.1599 - val_acc: 0.9505\n",
      "Epoch 49/100\n",
      "1000/1000 [==============================] - 27s 27ms/step - loss: 0.1311 - acc: 0.9504 - val_loss: 0.1419 - val_acc: 0.9544\n",
      "Epoch 50/100\n",
      "1000/1000 [==============================] - 27s 27ms/step - loss: 0.1299 - acc: 0.9503 - val_loss: 0.1617 - val_acc: 0.9491\n",
      "Epoch 51/100\n",
      "1000/1000 [==============================] - 28s 28ms/step - loss: 0.1291 - acc: 0.9509 - val_loss: 0.1446 - val_acc: 0.9523\n",
      "Epoch 52/100\n",
      "1000/1000 [==============================] - 28s 28ms/step - loss: 0.1296 - acc: 0.9506 - val_loss: 0.1437 - val_acc: 0.9525\n",
      "Epoch 53/100\n",
      "1000/1000 [==============================] - 28s 28ms/step - loss: 0.1288 - acc: 0.9505 - val_loss: 0.1492 - val_acc: 0.9509\n",
      "Epoch 54/100\n",
      "1000/1000 [==============================] - 28s 28ms/step - loss: 0.1280 - acc: 0.9509 - val_loss: 0.1379 - val_acc: 0.9534\n",
      "Epoch 55/100\n",
      "1000/1000 [==============================] - 29s 29ms/step - loss: 0.1282 - acc: 0.9509 - val_loss: 0.1474 - val_acc: 0.9525\n",
      "Epoch 56/100\n",
      "1000/1000 [==============================] - 29s 29ms/step - loss: 0.1283 - acc: 0.9509 - val_loss: 0.1484 - val_acc: 0.9510\n",
      "Epoch 57/100\n",
      "1000/1000 [==============================] - 28s 28ms/step - loss: 0.1270 - acc: 0.9514 - val_loss: 0.1404 - val_acc: 0.9525\n",
      "Epoch 58/100\n",
      "1000/1000 [==============================] - 29s 29ms/step - loss: 0.1268 - acc: 0.9512 - val_loss: 0.1501 - val_acc: 0.9499\n",
      "Epoch 59/100\n",
      "1000/1000 [==============================] - 29s 29ms/step - loss: 0.1266 - acc: 0.9517 - val_loss: 0.1402 - val_acc: 0.9534\n",
      "Epoch 60/100\n"
     ]
    },
    {
     "name": "stdout",
     "output_type": "stream",
     "text": [
      "1000/1000 [==============================] - 28s 28ms/step - loss: 0.1271 - acc: 0.9516 - val_loss: 0.1493 - val_acc: 0.9516\n",
      "Epoch 61/100\n",
      "1000/1000 [==============================] - 28s 28ms/step - loss: 0.1254 - acc: 0.9521 - val_loss: 0.1493 - val_acc: 0.9519\n",
      "Epoch 62/100\n",
      "1000/1000 [==============================] - 28s 28ms/step - loss: 0.1263 - acc: 0.9521 - val_loss: 0.1521 - val_acc: 0.9515\n",
      "Epoch 63/100\n",
      "1000/1000 [==============================] - 30s 30ms/step - loss: 0.1253 - acc: 0.9522 - val_loss: 0.1538 - val_acc: 0.9515\n",
      "Epoch 64/100\n",
      "1000/1000 [==============================] - 28s 28ms/step - loss: 0.1257 - acc: 0.9520 - val_loss: 0.1388 - val_acc: 0.9531\n",
      "Epoch 65/100\n",
      "1000/1000 [==============================] - 28s 28ms/step - loss: 0.1248 - acc: 0.9521 - val_loss: 0.1430 - val_acc: 0.9540\n",
      "Epoch 66/100\n",
      "1000/1000 [==============================] - 30s 30ms/step - loss: 0.1242 - acc: 0.9527 - val_loss: 0.1537 - val_acc: 0.9522\n",
      "Epoch 67/100\n",
      "1000/1000 [==============================] - 29s 29ms/step - loss: 0.1245 - acc: 0.9523 - val_loss: 0.1532 - val_acc: 0.9508\n",
      "Epoch 68/100\n",
      "1000/1000 [==============================] - 27s 27ms/step - loss: 0.1245 - acc: 0.9523 - val_loss: 0.1466 - val_acc: 0.9530\n",
      "Epoch 69/100\n",
      "1000/1000 [==============================] - 28s 28ms/step - loss: 0.1246 - acc: 0.9524 - val_loss: 0.1415 - val_acc: 0.9534\n",
      "Epoch 70/100\n",
      "1000/1000 [==============================] - 28s 28ms/step - loss: 0.1221 - acc: 0.9537 - val_loss: 0.1464 - val_acc: 0.9525\n",
      "Epoch 71/100\n",
      "1000/1000 [==============================] - 28s 28ms/step - loss: 0.1215 - acc: 0.9534 - val_loss: 0.1459 - val_acc: 0.9550\n",
      "Epoch 72/100\n",
      "1000/1000 [==============================] - 28s 28ms/step - loss: 0.1225 - acc: 0.9535 - val_loss: 0.1523 - val_acc: 0.9523\n",
      "Epoch 73/100\n",
      "1000/1000 [==============================] - 28s 28ms/step - loss: 0.1209 - acc: 0.9540 - val_loss: 0.1352 - val_acc: 0.9556\n",
      "Epoch 74/100\n",
      "1000/1000 [==============================] - 28s 28ms/step - loss: 0.1217 - acc: 0.9537 - val_loss: 0.1382 - val_acc: 0.9546\n",
      "Epoch 75/100\n",
      "1000/1000 [==============================] - 27s 27ms/step - loss: 0.1202 - acc: 0.9536 - val_loss: 0.1498 - val_acc: 0.9533\n",
      "Epoch 76/100\n",
      "1000/1000 [==============================] - 28s 28ms/step - loss: 0.1217 - acc: 0.9533 - val_loss: 0.1382 - val_acc: 0.9540\n",
      "Epoch 77/100\n",
      "1000/1000 [==============================] - 28s 28ms/step - loss: 0.1209 - acc: 0.9537 - val_loss: 0.1430 - val_acc: 0.9538\n",
      "Epoch 78/100\n",
      "1000/1000 [==============================] - 28s 28ms/step - loss: 0.1207 - acc: 0.9538 - val_loss: 0.1503 - val_acc: 0.9524\n",
      "Epoch 79/100\n",
      "1000/1000 [==============================] - 28s 28ms/step - loss: 0.1201 - acc: 0.9543 - val_loss: 0.1367 - val_acc: 0.9554\n",
      "Epoch 80/100\n",
      "1000/1000 [==============================] - 28s 28ms/step - loss: 0.1203 - acc: 0.9539 - val_loss: 0.1471 - val_acc: 0.9538\n",
      "Epoch 81/100\n",
      "1000/1000 [==============================] - 28s 28ms/step - loss: 0.1209 - acc: 0.9543 - val_loss: 0.1408 - val_acc: 0.9534\n",
      "Epoch 82/100\n",
      "1000/1000 [==============================] - 28s 28ms/step - loss: 0.1199 - acc: 0.9543 - val_loss: 0.1604 - val_acc: 0.9512\n",
      "Epoch 83/100\n",
      "1000/1000 [==============================] - 28s 28ms/step - loss: 0.1196 - acc: 0.9546 - val_loss: 0.1446 - val_acc: 0.9529\n",
      "Epoch 84/100\n",
      "1000/1000 [==============================] - 28s 28ms/step - loss: 0.1203 - acc: 0.9544 - val_loss: 0.1415 - val_acc: 0.9538\n",
      "Epoch 85/100\n",
      "1000/1000 [==============================] - 28s 28ms/step - loss: 0.1191 - acc: 0.9546 - val_loss: 0.1394 - val_acc: 0.9536\n",
      "Epoch 86/100\n",
      "1000/1000 [==============================] - 29s 29ms/step - loss: 0.1193 - acc: 0.9547 - val_loss: 0.1458 - val_acc: 0.9531\n",
      "Epoch 87/100\n",
      "1000/1000 [==============================] - 28s 28ms/step - loss: 0.1175 - acc: 0.9554 - val_loss: 0.1440 - val_acc: 0.9537\n",
      "Epoch 88/100\n",
      "1000/1000 [==============================] - 28s 28ms/step - loss: 0.1179 - acc: 0.9546 - val_loss: 0.1458 - val_acc: 0.9535\n",
      "Epoch 89/100\n",
      "1000/1000 [==============================] - 28s 28ms/step - loss: 0.1199 - acc: 0.9546 - val_loss: 0.1493 - val_acc: 0.9524\n",
      "Epoch 90/100\n",
      "1000/1000 [==============================] - 28s 28ms/step - loss: 0.1178 - acc: 0.9556 - val_loss: 0.1450 - val_acc: 0.9533\n",
      "Epoch 91/100\n",
      "1000/1000 [==============================] - 28s 28ms/step - loss: 0.1184 - acc: 0.9550 - val_loss: 0.1486 - val_acc: 0.9523\n",
      "Epoch 92/100\n",
      "1000/1000 [==============================] - 28s 28ms/step - loss: 0.1171 - acc: 0.9552 - val_loss: 0.1480 - val_acc: 0.9527\n",
      "Epoch 93/100\n",
      "1000/1000 [==============================] - 28s 28ms/step - loss: 0.1180 - acc: 0.9554 - val_loss: 0.1433 - val_acc: 0.9523\n",
      "Epoch 94/100\n",
      "1000/1000 [==============================] - 28s 28ms/step - loss: 0.1182 - acc: 0.9548 - val_loss: 0.1448 - val_acc: 0.9535\n",
      "Epoch 95/100\n",
      "1000/1000 [==============================] - 28s 28ms/step - loss: 0.1163 - acc: 0.9558 - val_loss: 0.1426 - val_acc: 0.9549\n",
      "Epoch 96/100\n",
      "1000/1000 [==============================] - 28s 28ms/step - loss: 0.1158 - acc: 0.9560 - val_loss: 0.1526 - val_acc: 0.9527\n",
      "Epoch 97/100\n",
      "1000/1000 [==============================] - 28s 28ms/step - loss: 0.1179 - acc: 0.9555 - val_loss: 0.1432 - val_acc: 0.9540\n",
      "Epoch 98/100\n",
      "1000/1000 [==============================] - 28s 28ms/step - loss: 0.1155 - acc: 0.9563 - val_loss: 0.1468 - val_acc: 0.9538\n",
      "Epoch 99/100\n",
      "1000/1000 [==============================] - 28s 28ms/step - loss: 0.1157 - acc: 0.9560 - val_loss: 0.1419 - val_acc: 0.9537\n",
      "Epoch 100/100\n",
      "1000/1000 [==============================] - 28s 28ms/step - loss: 0.1169 - acc: 0.9558 - val_loss: 0.1420 - val_acc: 0.9551\n"
     ]
    }
   ],
   "source": [
    "model_5 = model_4\n",
    "\n",
    "model_5.compile(loss='binary_crossentropy',\n",
    "              optimizer=optimizers.RMSprop(lr=1e-5),\n",
    "              metrics=['acc'])\n",
    "\n",
    "# history_5 = model_5.fit_generator(train_generator,\n",
    "#                               steps_per_epoch=100,\n",
    "#                               epochs=100,\n",
    "#                               validation_data=validation_generator,\n",
    "#                               validation_steps=50)\n",
    "\n",
    "history_5 = model_5.fit_generator(datagen.flow(x_train, y_train,\n",
    "                                           batch_size=40),\n",
    "                              steps_per_epoch=1000,\n",
    "                              epochs=100,\n",
    "                              validation_data=(x_validation, y_validation),\n",
    "                              workers=4)"
   ]
  },
  {
   "cell_type": "code",
   "execution_count": 89,
   "metadata": {},
   "outputs": [
    {
     "data": {
      "image/png": "[encoded data removed]",
      "text/plain": [
       "<Figure size 432x288 with 1 Axes>"
      ]
     },
     "metadata": {
      "needs_background": "light"
     },
     "output_type": "display_data"
    },
    {
     "data": {
      "image/png": "[encoded data removed]",
      "text/plain": [
       "<Figure size 432x288 with 1 Axes>"
      ]
     },
     "metadata": {
      "needs_background": "light"
     },
     "output_type": "display_data"
    }
   ],
   "source": [
    "acc = history_5.history['acc']\n",
    "val_acc = history_5.history['val_acc']\n",
    "loss = history_5.history['loss']\n",
    "val_loss = history_5.history['val_loss']\n",
    "\n",
    "epochs = range(1, len(acc) + 1)\n",
    "\n",
    "plt.plot(epochs, acc, 'bo', label='Training acc')\n",
    "plt.plot(epochs, val_acc, 'b', label='Validation acc')\n",
    "plt.title('Training and validation accuracy')\n",
    "plt.legend()\n",
    "\n",
    "plt.figure()\n",
    "\n",
    "plt.plot(epochs, loss, 'bo', label='Training loss')\n",
    "plt.plot(epochs, val_loss, 'b', label='Validation loss')\n",
    "plt.title('Training and validation loss')\n",
    "plt.legend()\n",
    "\n",
    "plt.show()"
   ]
  },
  {
   "cell_type": "markdown",
   "metadata": {},
   "source": [
    "## Testing on the Test Data"
   ]
  },
  {
   "cell_type": "markdown",
   "metadata": {},
   "source": [
    "Taking the best model from above:"
   ]
  },
  {
   "cell_type": "code",
   "execution_count": 90,
   "metadata": {},
   "outputs": [
    {
     "name": "stdout",
     "output_type": "stream",
     "text": [
      "10000/10000 [==============================] - 3s 317us/step\n"
     ]
    }
   ],
   "source": [
    "test_loss, test_acc = model_5.evaluate(x_test, y_test)"
   ]
  },
  {
   "cell_type": "code",
   "execution_count": 91,
   "metadata": {},
   "outputs": [
    {
     "name": "stdout",
     "output_type": "stream",
     "text": [
      "0.1401977075457573\n",
      "0.9550199954986572\n"
     ]
    }
   ],
   "source": [
    "print(test_loss)\n",
    "print(test_acc)"
   ]
  }
 ],
 "metadata": {
  "kernelspec": {
   "display_name": "Python 3",
   "language": "python",
   "name": "python3"
  },
  "language_info": {
   "codemirror_mode": {
    "name": "ipython",
    "version": 3
   },
   "file_extension": ".py",
   "mimetype": "text/x-python",
   "name": "python",
   "nbconvert_exporter": "python",
   "pygments_lexer": "ipython3",
   "version": "3.6.8"
  }
 },
 "nbformat": 4,
 "nbformat_minor": 2
}
